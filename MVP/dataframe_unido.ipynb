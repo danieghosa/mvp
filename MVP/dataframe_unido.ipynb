{
 "cells": [
  {
   "cell_type": "code",
   "execution_count": 112,
   "id": "df2feff8",
   "metadata": {},
   "outputs": [],
   "source": [
    "import pandas as pd\n",
    "\n",
    "# Cargar los archivos\n",
    "strong = pd.read_csv(\"strong.csv\")\n",
    "weightlifting = pd.read_csv(\"weightlifting_721_workouts.csv\")"
   ]
  },
  {
   "cell_type": "code",
   "execution_count": 113,
   "id": "d7497516",
   "metadata": {},
   "outputs": [],
   "source": [
    "strong['Date'] = pd.to_datetime(strong['Date'])\n",
    "weightlifting['Date'] = pd.to_datetime(weightlifting['Date'])"
   ]
  },
  {
   "cell_type": "code",
   "execution_count": 114,
   "id": "2a5e0f4b",
   "metadata": {},
   "outputs": [],
   "source": [
    "# Aplicamos la conversión solo al dataset en libras\n",
    "weightlifting['Weight'] = weightlifting['Weight'] * 0.453592"
   ]
  },
  {
   "cell_type": "code",
   "execution_count": 115,
   "id": "e984e2ae",
   "metadata": {},
   "outputs": [],
   "source": [
    "# Dataset con RPE\n",
    "strong = strong.rename(columns={\n",
    "    'Date': 'fecha',\n",
    "    'Exercise Name': 'ejercicio',\n",
    "    'Weight': 'peso (kg)',\n",
    "    'Reps': 'reps',\n",
    "    'RPE': 'RPE'\n",
    "})\n",
    "strong = strong[['fecha', 'ejercicio', 'peso (kg)', 'reps', 'RPE']]\n",
    "\n",
    "# Dataset sin RPE\n",
    "weightlifting = weightlifting.rename(columns={\n",
    "    'Date': 'fecha',\n",
    "    'Exercise Name': 'ejercicio',\n",
    "    'Weight': 'peso (kg)',\n",
    "    'Reps': 'reps'\n",
    "})\n",
    "weightlifting = weightlifting[['fecha', 'ejercicio', 'peso (kg)', 'reps']]\n"
   ]
  },
  {
   "cell_type": "code",
   "execution_count": 116,
   "id": "816b35d8",
   "metadata": {},
   "outputs": [],
   "source": [
    "strong['RIR'] = 10 - strong['RPE']"
   ]
  },
  {
   "cell_type": "code",
   "execution_count": 117,
   "id": "e9bf1876",
   "metadata": {},
   "outputs": [],
   "source": [
    "weightlifting['RIR'] = None  # o np.nan si prefieres"
   ]
  },
  {
   "cell_type": "code",
   "execution_count": 118,
   "id": "25e9e193",
   "metadata": {},
   "outputs": [],
   "source": [
    "def cumple_objetivo(row):\n",
    "    if pd.notnull(row['RIR']):\n",
    "        return row['reps'] >= 5 and row['RIR'] >= 2\n",
    "    else:\n",
    "        return row['reps'] >= 5"
   ]
  },
  {
   "cell_type": "code",
   "execution_count": 119,
   "id": "25eeb056",
   "metadata": {},
   "outputs": [],
   "source": [
    "df['cumplió_objetivo'] = df.apply(cumple_objetivo, axis=1)"
   ]
  },
  {
   "cell_type": "code",
   "execution_count": 120,
   "id": "e18b5b20",
   "metadata": {},
   "outputs": [
    {
     "data": {
      "text/html": [
       "<div>\n",
       "<style scoped>\n",
       "    .dataframe tbody tr th:only-of-type {\n",
       "        vertical-align: middle;\n",
       "    }\n",
       "\n",
       "    .dataframe tbody tr th {\n",
       "        vertical-align: top;\n",
       "    }\n",
       "\n",
       "    .dataframe thead th {\n",
       "        text-align: right;\n",
       "    }\n",
       "</style>\n",
       "<table border=\"1\" class=\"dataframe\">\n",
       "  <thead>\n",
       "    <tr style=\"text-align: right;\">\n",
       "      <th></th>\n",
       "      <th>fecha</th>\n",
       "      <th>ejercicio</th>\n",
       "      <th>peso (kg)</th>\n",
       "      <th>reps</th>\n",
       "      <th>RPE</th>\n",
       "      <th>RIR</th>\n",
       "      <th>cumplió_objetivo</th>\n",
       "    </tr>\n",
       "  </thead>\n",
       "  <tbody>\n",
       "    <tr>\n",
       "      <th>0</th>\n",
       "      <td>2021-09-13 10:41:41</td>\n",
       "      <td>Bench Press (Barbell)</td>\n",
       "      <td>35.0</td>\n",
       "      <td>10</td>\n",
       "      <td>9.0</td>\n",
       "      <td>1.0</td>\n",
       "      <td>False</td>\n",
       "    </tr>\n",
       "    <tr>\n",
       "      <th>1</th>\n",
       "      <td>2021-09-13 10:41:41</td>\n",
       "      <td>Bench Press (Barbell)</td>\n",
       "      <td>35.0</td>\n",
       "      <td>9</td>\n",
       "      <td>10.0</td>\n",
       "      <td>0.0</td>\n",
       "      <td>False</td>\n",
       "    </tr>\n",
       "    <tr>\n",
       "      <th>2</th>\n",
       "      <td>2021-09-13 10:41:41</td>\n",
       "      <td>Bench Press (Barbell)</td>\n",
       "      <td>35.0</td>\n",
       "      <td>8</td>\n",
       "      <td>10.0</td>\n",
       "      <td>0.0</td>\n",
       "      <td>False</td>\n",
       "    </tr>\n",
       "    <tr>\n",
       "      <th>3</th>\n",
       "      <td>2021-09-13 10:41:41</td>\n",
       "      <td>Bench Press (Barbell)</td>\n",
       "      <td>35.0</td>\n",
       "      <td>7</td>\n",
       "      <td>10.0</td>\n",
       "      <td>0.0</td>\n",
       "      <td>False</td>\n",
       "    </tr>\n",
       "    <tr>\n",
       "      <th>4</th>\n",
       "      <td>2021-09-13 10:41:41</td>\n",
       "      <td>Incline Cable Chest Fly</td>\n",
       "      <td>12.5</td>\n",
       "      <td>12</td>\n",
       "      <td>9.5</td>\n",
       "      <td>0.5</td>\n",
       "      <td>False</td>\n",
       "    </tr>\n",
       "  </tbody>\n",
       "</table>\n",
       "</div>"
      ],
      "text/plain": [
       "                fecha                ejercicio  peso (kg)  reps   RPE  RIR  \\\n",
       "0 2021-09-13 10:41:41    Bench Press (Barbell)       35.0    10   9.0  1.0   \n",
       "1 2021-09-13 10:41:41    Bench Press (Barbell)       35.0     9  10.0  0.0   \n",
       "2 2021-09-13 10:41:41    Bench Press (Barbell)       35.0     8  10.0  0.0   \n",
       "3 2021-09-13 10:41:41    Bench Press (Barbell)       35.0     7  10.0  0.0   \n",
       "4 2021-09-13 10:41:41  Incline Cable Chest Fly       12.5    12   9.5  0.5   \n",
       "\n",
       "   cumplió_objetivo  \n",
       "0             False  \n",
       "1             False  \n",
       "2             False  \n",
       "3             False  \n",
       "4             False  "
      ]
     },
     "execution_count": 120,
     "metadata": {},
     "output_type": "execute_result"
    }
   ],
   "source": [
    "df.head()"
   ]
  },
  {
   "cell_type": "code",
   "execution_count": 121,
   "id": "7b90139d",
   "metadata": {},
   "outputs": [
    {
     "data": {
      "image/png": "[encoded data removed]",
      "text/plain": [
       "<Figure size 640x480 with 1 Axes>"
      ]
     },
     "metadata": {},
     "output_type": "display_data"
    }
   ],
   "source": [
    "import seaborn as sns\n",
    "import matplotlib.pyplot as plt\n",
    "\n",
    "# Evolución de la carga en sentadillas\n",
    "sentadillas = df[df['ejercicio'].str.contains('squat', case=False)]\n",
    "sns.lineplot(data=sentadillas, x='fecha', y='peso (kg)')\n",
    "plt.title(\"Progresión de peso en sentadillas\")\n",
    "plt.show()\n"
   ]
  },
  {
   "cell_type": "code",
   "execution_count": 122,
   "id": "d316b922",
   "metadata": {},
   "outputs": [
    {
     "name": "stdout",
     "output_type": "stream",
     "text": [
      "                 fecha                      ejercicio  set  peso (kg)  reps  \\\n",
      "0  2015-10-23 17:06:37  Incline Bench Press (Barbell)    1   61.23492     8   \n",
      "1  2015-10-23 17:06:37  Incline Bench Press (Barbell)    2   61.23492     8   \n",
      "2  2015-10-23 17:06:37  Incline Bench Press (Barbell)    3   61.23492     5   \n",
      "3  2015-10-23 17:06:37  Incline Bench Press (Barbell)    4   83.91452     7   \n",
      "4  2015-10-23 17:06:37  Incline Bench Press (Barbell)    5  104.32616     8   \n",
      "\n",
      "    rpe   rir cumplió_objetivo  \n",
      "0  None  None             None  \n",
      "1  None  None             None  \n",
      "2  None  None             None  \n",
      "3  None  None             None  \n",
      "4  None  None             None  \n"
     ]
    }
   ],
   "source": [
    "import pandas as pd\n",
    "\n",
    "# Cargar el dataset\n",
    "df_weightlifting = pd.read_csv(\"weightlifting_721_workouts.csv\")\n",
    "\n",
    "# Eliminar columnas\n",
    "df_weightlifting = df_weightlifting.drop(['Workout Name', 'Distance', 'Seconds', 'Notes', 'Workout Notes'], axis=1)\n",
    "\n",
    "# Pasar peso de libras a kilos\n",
    "df_weightlifting['Weight'] = df_weightlifting['Weight'] * 0.453592\n",
    "\n",
    "# Renombrar las columnas\n",
    "df_weightlifting = df_weightlifting.rename(columns={\n",
    "    \"Date\": \"fecha\",\n",
    "    \"Exercise Name\": \"ejercicio\",\n",
    "    \"Set Order\": \"set\",\n",
    "    \"Weight\": \"peso (kg)\",\n",
    "    \"Reps\": \"reps\"\n",
    "})\n",
    "\n",
    "# Agregar las columnas faltantes con valores por defecto\n",
    "df_weightlifting[\"rpe\"] = None\n",
    "df_weightlifting[\"rir\"] = None\n",
    "df_weightlifting[\"cumplió_objetivo\"] = None\n",
    "\n",
    "# Verificar los cambios\n",
    "print(df_weightlifting.head())"
   ]
  },
  {
   "cell_type": "code",
   "execution_count": 123,
   "id": "d5103471",
   "metadata": {},
   "outputs": [],
   "source": [
    "df_weightlifting[\"fecha\"] = pd.to_datetime(df_weightlifting[\"fecha\"], errors='coerce')\n"
   ]
  },
  {
   "cell_type": "code",
   "execution_count": 124,
   "id": "7567256e",
   "metadata": {},
   "outputs": [
    {
     "data": {
      "text/html": [
       "<div>\n",
       "<style scoped>\n",
       "    .dataframe tbody tr th:only-of-type {\n",
       "        vertical-align: middle;\n",
       "    }\n",
       "\n",
       "    .dataframe tbody tr th {\n",
       "        vertical-align: top;\n",
       "    }\n",
       "\n",
       "    .dataframe thead th {\n",
       "        text-align: right;\n",
       "    }\n",
       "</style>\n",
       "<table border=\"1\" class=\"dataframe\">\n",
       "  <thead>\n",
       "    <tr style=\"text-align: right;\">\n",
       "      <th></th>\n",
       "      <th>fecha</th>\n",
       "      <th>ejercicio</th>\n",
       "      <th>set</th>\n",
       "      <th>peso (kg)</th>\n",
       "      <th>reps</th>\n",
       "      <th>rpe</th>\n",
       "      <th>rir</th>\n",
       "      <th>cumplió_objetivo</th>\n",
       "    </tr>\n",
       "  </thead>\n",
       "  <tbody>\n",
       "    <tr>\n",
       "      <th>0</th>\n",
       "      <td>2015-10-23 17:06:37</td>\n",
       "      <td>Incline Bench Press (Barbell)</td>\n",
       "      <td>1</td>\n",
       "      <td>61.23492</td>\n",
       "      <td>8</td>\n",
       "      <td>None</td>\n",
       "      <td>None</td>\n",
       "      <td>None</td>\n",
       "    </tr>\n",
       "    <tr>\n",
       "      <th>1</th>\n",
       "      <td>2015-10-23 17:06:37</td>\n",
       "      <td>Incline Bench Press (Barbell)</td>\n",
       "      <td>2</td>\n",
       "      <td>61.23492</td>\n",
       "      <td>8</td>\n",
       "      <td>None</td>\n",
       "      <td>None</td>\n",
       "      <td>None</td>\n",
       "    </tr>\n",
       "    <tr>\n",
       "      <th>2</th>\n",
       "      <td>2015-10-23 17:06:37</td>\n",
       "      <td>Incline Bench Press (Barbell)</td>\n",
       "      <td>3</td>\n",
       "      <td>61.23492</td>\n",
       "      <td>5</td>\n",
       "      <td>None</td>\n",
       "      <td>None</td>\n",
       "      <td>None</td>\n",
       "    </tr>\n",
       "    <tr>\n",
       "      <th>3</th>\n",
       "      <td>2015-10-23 17:06:37</td>\n",
       "      <td>Incline Bench Press (Barbell)</td>\n",
       "      <td>4</td>\n",
       "      <td>83.91452</td>\n",
       "      <td>7</td>\n",
       "      <td>None</td>\n",
       "      <td>None</td>\n",
       "      <td>None</td>\n",
       "    </tr>\n",
       "    <tr>\n",
       "      <th>4</th>\n",
       "      <td>2015-10-23 17:06:37</td>\n",
       "      <td>Incline Bench Press (Barbell)</td>\n",
       "      <td>5</td>\n",
       "      <td>104.32616</td>\n",
       "      <td>8</td>\n",
       "      <td>None</td>\n",
       "      <td>None</td>\n",
       "      <td>None</td>\n",
       "    </tr>\n",
       "  </tbody>\n",
       "</table>\n",
       "</div>"
      ],
      "text/plain": [
       "                fecha                      ejercicio  set  peso (kg)  reps  \\\n",
       "0 2015-10-23 17:06:37  Incline Bench Press (Barbell)    1   61.23492     8   \n",
       "1 2015-10-23 17:06:37  Incline Bench Press (Barbell)    2   61.23492     8   \n",
       "2 2015-10-23 17:06:37  Incline Bench Press (Barbell)    3   61.23492     5   \n",
       "3 2015-10-23 17:06:37  Incline Bench Press (Barbell)    4   83.91452     7   \n",
       "4 2015-10-23 17:06:37  Incline Bench Press (Barbell)    5  104.32616     8   \n",
       "\n",
       "    rpe   rir cumplió_objetivo  \n",
       "0  None  None             None  \n",
       "1  None  None             None  \n",
       "2  None  None             None  \n",
       "3  None  None             None  \n",
       "4  None  None             None  "
      ]
     },
     "execution_count": 124,
     "metadata": {},
     "output_type": "execute_result"
    }
   ],
   "source": [
    "df_weightlifting.head()"
   ]
  },
  {
   "cell_type": "code",
   "execution_count": 125,
   "id": "478f7d76",
   "metadata": {},
   "outputs": [],
   "source": [
    "df_strong = df"
   ]
  },
  {
   "cell_type": "code",
   "execution_count": 126,
   "id": "f2f6fef4",
   "metadata": {},
   "outputs": [
    {
     "data": {
      "text/html": [
       "<div>\n",
       "<style scoped>\n",
       "    .dataframe tbody tr th:only-of-type {\n",
       "        vertical-align: middle;\n",
       "    }\n",
       "\n",
       "    .dataframe tbody tr th {\n",
       "        vertical-align: top;\n",
       "    }\n",
       "\n",
       "    .dataframe thead th {\n",
       "        text-align: right;\n",
       "    }\n",
       "</style>\n",
       "<table border=\"1\" class=\"dataframe\">\n",
       "  <thead>\n",
       "    <tr style=\"text-align: right;\">\n",
       "      <th></th>\n",
       "      <th>fecha</th>\n",
       "      <th>ejercicio</th>\n",
       "      <th>peso (kg)</th>\n",
       "      <th>reps</th>\n",
       "      <th>RPE</th>\n",
       "      <th>RIR</th>\n",
       "      <th>cumplió_objetivo</th>\n",
       "    </tr>\n",
       "  </thead>\n",
       "  <tbody>\n",
       "    <tr>\n",
       "      <th>0</th>\n",
       "      <td>2021-09-13 10:41:41</td>\n",
       "      <td>Bench Press (Barbell)</td>\n",
       "      <td>35.0</td>\n",
       "      <td>10</td>\n",
       "      <td>9.0</td>\n",
       "      <td>1.0</td>\n",
       "      <td>False</td>\n",
       "    </tr>\n",
       "    <tr>\n",
       "      <th>1</th>\n",
       "      <td>2021-09-13 10:41:41</td>\n",
       "      <td>Bench Press (Barbell)</td>\n",
       "      <td>35.0</td>\n",
       "      <td>9</td>\n",
       "      <td>10.0</td>\n",
       "      <td>0.0</td>\n",
       "      <td>False</td>\n",
       "    </tr>\n",
       "    <tr>\n",
       "      <th>2</th>\n",
       "      <td>2021-09-13 10:41:41</td>\n",
       "      <td>Bench Press (Barbell)</td>\n",
       "      <td>35.0</td>\n",
       "      <td>8</td>\n",
       "      <td>10.0</td>\n",
       "      <td>0.0</td>\n",
       "      <td>False</td>\n",
       "    </tr>\n",
       "    <tr>\n",
       "      <th>3</th>\n",
       "      <td>2021-09-13 10:41:41</td>\n",
       "      <td>Bench Press (Barbell)</td>\n",
       "      <td>35.0</td>\n",
       "      <td>7</td>\n",
       "      <td>10.0</td>\n",
       "      <td>0.0</td>\n",
       "      <td>False</td>\n",
       "    </tr>\n",
       "    <tr>\n",
       "      <th>4</th>\n",
       "      <td>2021-09-13 10:41:41</td>\n",
       "      <td>Incline Cable Chest Fly</td>\n",
       "      <td>12.5</td>\n",
       "      <td>12</td>\n",
       "      <td>9.5</td>\n",
       "      <td>0.5</td>\n",
       "      <td>False</td>\n",
       "    </tr>\n",
       "  </tbody>\n",
       "</table>\n",
       "</div>"
      ],
      "text/plain": [
       "                fecha                ejercicio  peso (kg)  reps   RPE  RIR  \\\n",
       "0 2021-09-13 10:41:41    Bench Press (Barbell)       35.0    10   9.0  1.0   \n",
       "1 2021-09-13 10:41:41    Bench Press (Barbell)       35.0     9  10.0  0.0   \n",
       "2 2021-09-13 10:41:41    Bench Press (Barbell)       35.0     8  10.0  0.0   \n",
       "3 2021-09-13 10:41:41    Bench Press (Barbell)       35.0     7  10.0  0.0   \n",
       "4 2021-09-13 10:41:41  Incline Cable Chest Fly       12.5    12   9.5  0.5   \n",
       "\n",
       "   cumplió_objetivo  \n",
       "0             False  \n",
       "1             False  \n",
       "2             False  \n",
       "3             False  \n",
       "4             False  "
      ]
     },
     "execution_count": 126,
     "metadata": {},
     "output_type": "execute_result"
    }
   ],
   "source": [
    "df_strong.head()"
   ]
  },
  {
   "cell_type": "code",
   "execution_count": 127,
   "id": "584491bd",
   "metadata": {},
   "outputs": [
    {
     "name": "stdout",
     "output_type": "stream",
     "text": [
      "<class 'pandas.core.frame.DataFrame'>\n",
      "RangeIndex: 9932 entries, 0 to 9931\n",
      "Data columns (total 8 columns):\n",
      " #   Column            Non-Null Count  Dtype         \n",
      "---  ------            --------------  -----         \n",
      " 0   fecha             9932 non-null   datetime64[ns]\n",
      " 1   ejercicio         9932 non-null   category      \n",
      " 2   set               9932 non-null   int64         \n",
      " 3   peso (kg)         9932 non-null   float64       \n",
      " 4   reps              9932 non-null   int64         \n",
      " 5   rpe               0 non-null      float64       \n",
      " 6   rir               0 non-null      float64       \n",
      " 7   cumplió_objetivo  9932 non-null   bool          \n",
      "dtypes: bool(1), category(1), datetime64[ns](1), float64(3), int64(2)\n",
      "memory usage: 487.8 KB\n",
      "None\n",
      "                fecha                      ejercicio  set  peso (kg)  reps  \\\n",
      "0 2015-10-23 17:06:37  Incline Bench Press (Barbell)    1   61.23492     8   \n",
      "1 2015-10-23 17:06:37  Incline Bench Press (Barbell)    2   61.23492     8   \n",
      "2 2015-10-23 17:06:37  Incline Bench Press (Barbell)    3   61.23492     5   \n",
      "3 2015-10-23 17:06:37  Incline Bench Press (Barbell)    4   83.91452     7   \n",
      "4 2015-10-23 17:06:37  Incline Bench Press (Barbell)    5  104.32616     8   \n",
      "\n",
      "   rpe  rir  cumplió_objetivo  \n",
      "0  NaN  NaN             False  \n",
      "1  NaN  NaN             False  \n",
      "2  NaN  NaN             False  \n",
      "3  NaN  NaN             False  \n",
      "4  NaN  NaN             False  \n"
     ]
    }
   ],
   "source": [
    "# Convertir 'ejercicio' a categoría\n",
    "df_weightlifting[\"ejercicio\"] = df_weightlifting[\"ejercicio\"].astype(\"category\")\n",
    "\n",
    "# Convertir 'rpe' y 'rir' a float y rellenar con NaN\n",
    "df_weightlifting[\"rpe\"] = pd.to_numeric(df_weightlifting[\"rpe\"], errors='coerce')\n",
    "df_weightlifting[\"rir\"] = pd.to_numeric(df_weightlifting[\"rir\"], errors='coerce')\n",
    "\n",
    "# Convertir 'cumplió_objetivo' a booleano. Rellenamos inicialmente con False.\n",
    "df_weightlifting[\"cumplió_objetivo\"] = False\n",
    "\n",
    "# Verificar los cambios\n",
    "print(df_weightlifting.info())\n",
    "print(df_weightlifting.head())"
   ]
  },
  {
   "cell_type": "code",
   "execution_count": 128,
   "id": "c753ae7f",
   "metadata": {},
   "outputs": [
    {
     "name": "stdout",
     "output_type": "stream",
     "text": [
      "<class 'pandas.core.frame.DataFrame'>\n",
      "RangeIndex: 13921 entries, 0 to 13920\n",
      "Data columns (total 7 columns):\n",
      " #   Column            Non-Null Count  Dtype         \n",
      "---  ------            --------------  -----         \n",
      " 0   fecha             13921 non-null  datetime64[ns]\n",
      " 1   ejercicio         13921 non-null  object        \n",
      " 2   peso (kg)         13921 non-null  float64       \n",
      " 3   reps              13921 non-null  int64         \n",
      " 4   RPE               3767 non-null   float64       \n",
      " 5   RIR               3767 non-null   float64       \n",
      " 6   cumplió_objetivo  13921 non-null  bool          \n",
      "dtypes: bool(1), datetime64[ns](1), float64(3), int64(1), object(1)\n",
      "memory usage: 666.3+ KB\n",
      "None\n"
     ]
    }
   ],
   "source": [
    "print(df_strong.info())\n"
   ]
  },
  {
   "cell_type": "code",
   "execution_count": 129,
   "id": "2b868d04",
   "metadata": {},
   "outputs": [
    {
     "name": "stdout",
     "output_type": "stream",
     "text": [
      "Index(['Date', 'Workout Name', 'Duration', 'Exercise Name', 'Set Order',\n",
      "       'Weight', 'Reps', 'Distance', 'Seconds', 'Notes', 'Workout Notes',\n",
      "       'RPE'],\n",
      "      dtype='object')\n"
     ]
    }
   ],
   "source": [
    "# Carga el dataset original Strong\n",
    "df_strong = pd.read_csv(\"strong.csv\")\n",
    "\n",
    "# Verifica las columnas presentes\n",
    "print(df_strong.columns)\n"
   ]
  },
  {
   "cell_type": "code",
   "execution_count": 130,
   "id": "57e949e5",
   "metadata": {},
   "outputs": [],
   "source": [
    "# Reintegra la columna 'Set Order'\n",
    "df_strong[\"set\"] = df_strong[\"Set Order\"]\n",
    "df_strong = df_strong.drop(columns=[\"Set Order\"])  # Si no necesitas la original"
   ]
  },
  {
   "cell_type": "code",
   "execution_count": 131,
   "id": "c3e09b3f",
   "metadata": {},
   "outputs": [],
   "source": [
    "# Crear la columna usuario\n",
    "df_strong['usuario'] = 'usuario_strong'\n",
    "df_weightlifting['usuario'] = 'usuario_weightlifting'"
   ]
  },
  {
   "cell_type": "code",
   "execution_count": 132,
   "id": "299bfe1e",
   "metadata": {},
   "outputs": [
    {
     "data": {
      "text/html": [
       "<div>\n",
       "<style scoped>\n",
       "    .dataframe tbody tr th:only-of-type {\n",
       "        vertical-align: middle;\n",
       "    }\n",
       "\n",
       "    .dataframe tbody tr th {\n",
       "        vertical-align: top;\n",
       "    }\n",
       "\n",
       "    .dataframe thead th {\n",
       "        text-align: right;\n",
       "    }\n",
       "</style>\n",
       "<table border=\"1\" class=\"dataframe\">\n",
       "  <thead>\n",
       "    <tr style=\"text-align: right;\">\n",
       "      <th></th>\n",
       "      <th>Date</th>\n",
       "      <th>Workout Name</th>\n",
       "      <th>Duration</th>\n",
       "      <th>Exercise Name</th>\n",
       "      <th>Weight</th>\n",
       "      <th>Reps</th>\n",
       "      <th>Distance</th>\n",
       "      <th>Seconds</th>\n",
       "      <th>Notes</th>\n",
       "      <th>Workout Notes</th>\n",
       "      <th>RPE</th>\n",
       "      <th>set</th>\n",
       "      <th>usuario</th>\n",
       "    </tr>\n",
       "  </thead>\n",
       "  <tbody>\n",
       "    <tr>\n",
       "      <th>0</th>\n",
       "      <td>2021-09-13 10:41:41</td>\n",
       "      <td>PUSH 1</td>\n",
       "      <td>1h 12m</td>\n",
       "      <td>Bench Press (Barbell)</td>\n",
       "      <td>35.0</td>\n",
       "      <td>10</td>\n",
       "      <td>0</td>\n",
       "      <td>0</td>\n",
       "      <td>NaN</td>\n",
       "      <td>Focusing on CHEST, SHOULDERS and TRICEPS</td>\n",
       "      <td>9.0</td>\n",
       "      <td>1</td>\n",
       "      <td>usuario_strong</td>\n",
       "    </tr>\n",
       "    <tr>\n",
       "      <th>1</th>\n",
       "      <td>2021-09-13 10:41:41</td>\n",
       "      <td>PUSH 1</td>\n",
       "      <td>1h 12m</td>\n",
       "      <td>Bench Press (Barbell)</td>\n",
       "      <td>35.0</td>\n",
       "      <td>9</td>\n",
       "      <td>0</td>\n",
       "      <td>0</td>\n",
       "      <td>NaN</td>\n",
       "      <td>NaN</td>\n",
       "      <td>10.0</td>\n",
       "      <td>2</td>\n",
       "      <td>usuario_strong</td>\n",
       "    </tr>\n",
       "    <tr>\n",
       "      <th>2</th>\n",
       "      <td>2021-09-13 10:41:41</td>\n",
       "      <td>PUSH 1</td>\n",
       "      <td>1h 12m</td>\n",
       "      <td>Bench Press (Barbell)</td>\n",
       "      <td>35.0</td>\n",
       "      <td>8</td>\n",
       "      <td>0</td>\n",
       "      <td>0</td>\n",
       "      <td>NaN</td>\n",
       "      <td>NaN</td>\n",
       "      <td>10.0</td>\n",
       "      <td>3</td>\n",
       "      <td>usuario_strong</td>\n",
       "    </tr>\n",
       "    <tr>\n",
       "      <th>3</th>\n",
       "      <td>2021-09-13 10:41:41</td>\n",
       "      <td>PUSH 1</td>\n",
       "      <td>1h 12m</td>\n",
       "      <td>Bench Press (Barbell)</td>\n",
       "      <td>35.0</td>\n",
       "      <td>7</td>\n",
       "      <td>0</td>\n",
       "      <td>0</td>\n",
       "      <td>NaN</td>\n",
       "      <td>NaN</td>\n",
       "      <td>10.0</td>\n",
       "      <td>4</td>\n",
       "      <td>usuario_strong</td>\n",
       "    </tr>\n",
       "    <tr>\n",
       "      <th>4</th>\n",
       "      <td>2021-09-13 10:41:41</td>\n",
       "      <td>PUSH 1</td>\n",
       "      <td>1h 12m</td>\n",
       "      <td>Incline Cable Chest Fly</td>\n",
       "      <td>12.5</td>\n",
       "      <td>12</td>\n",
       "      <td>0</td>\n",
       "      <td>0</td>\n",
       "      <td>NaN</td>\n",
       "      <td>NaN</td>\n",
       "      <td>9.5</td>\n",
       "      <td>1</td>\n",
       "      <td>usuario_strong</td>\n",
       "    </tr>\n",
       "  </tbody>\n",
       "</table>\n",
       "</div>"
      ],
      "text/plain": [
       "                  Date Workout Name Duration            Exercise Name  Weight  \\\n",
       "0  2021-09-13 10:41:41       PUSH 1   1h 12m    Bench Press (Barbell)    35.0   \n",
       "1  2021-09-13 10:41:41       PUSH 1   1h 12m    Bench Press (Barbell)    35.0   \n",
       "2  2021-09-13 10:41:41       PUSH 1   1h 12m    Bench Press (Barbell)    35.0   \n",
       "3  2021-09-13 10:41:41       PUSH 1   1h 12m    Bench Press (Barbell)    35.0   \n",
       "4  2021-09-13 10:41:41       PUSH 1   1h 12m  Incline Cable Chest Fly    12.5   \n",
       "\n",
       "   Reps  Distance  Seconds Notes                             Workout Notes  \\\n",
       "0    10         0        0   NaN  Focusing on CHEST, SHOULDERS and TRICEPS   \n",
       "1     9         0        0   NaN                                       NaN   \n",
       "2     8         0        0   NaN                                       NaN   \n",
       "3     7         0        0   NaN                                       NaN   \n",
       "4    12         0        0   NaN                                       NaN   \n",
       "\n",
       "    RPE  set         usuario  \n",
       "0   9.0    1  usuario_strong  \n",
       "1  10.0    2  usuario_strong  \n",
       "2  10.0    3  usuario_strong  \n",
       "3  10.0    4  usuario_strong  \n",
       "4   9.5    1  usuario_strong  "
      ]
     },
     "execution_count": 132,
     "metadata": {},
     "output_type": "execute_result"
    }
   ],
   "source": [
    "df_strong.head()"
   ]
  },
  {
   "cell_type": "code",
   "execution_count": 133,
   "id": "ae1508af",
   "metadata": {},
   "outputs": [
    {
     "data": {
      "text/html": [
       "<div>\n",
       "<style scoped>\n",
       "    .dataframe tbody tr th:only-of-type {\n",
       "        vertical-align: middle;\n",
       "    }\n",
       "\n",
       "    .dataframe tbody tr th {\n",
       "        vertical-align: top;\n",
       "    }\n",
       "\n",
       "    .dataframe thead th {\n",
       "        text-align: right;\n",
       "    }\n",
       "</style>\n",
       "<table border=\"1\" class=\"dataframe\">\n",
       "  <thead>\n",
       "    <tr style=\"text-align: right;\">\n",
       "      <th></th>\n",
       "      <th>fecha</th>\n",
       "      <th>ejercicio</th>\n",
       "      <th>set</th>\n",
       "      <th>peso (kg)</th>\n",
       "      <th>reps</th>\n",
       "      <th>rpe</th>\n",
       "      <th>rir</th>\n",
       "      <th>cumplió_objetivo</th>\n",
       "      <th>usuario</th>\n",
       "    </tr>\n",
       "  </thead>\n",
       "  <tbody>\n",
       "    <tr>\n",
       "      <th>0</th>\n",
       "      <td>2015-10-23 17:06:37</td>\n",
       "      <td>Incline Bench Press (Barbell)</td>\n",
       "      <td>1</td>\n",
       "      <td>61.23492</td>\n",
       "      <td>8</td>\n",
       "      <td>NaN</td>\n",
       "      <td>NaN</td>\n",
       "      <td>False</td>\n",
       "      <td>usuario_weightlifting</td>\n",
       "    </tr>\n",
       "    <tr>\n",
       "      <th>1</th>\n",
       "      <td>2015-10-23 17:06:37</td>\n",
       "      <td>Incline Bench Press (Barbell)</td>\n",
       "      <td>2</td>\n",
       "      <td>61.23492</td>\n",
       "      <td>8</td>\n",
       "      <td>NaN</td>\n",
       "      <td>NaN</td>\n",
       "      <td>False</td>\n",
       "      <td>usuario_weightlifting</td>\n",
       "    </tr>\n",
       "    <tr>\n",
       "      <th>2</th>\n",
       "      <td>2015-10-23 17:06:37</td>\n",
       "      <td>Incline Bench Press (Barbell)</td>\n",
       "      <td>3</td>\n",
       "      <td>61.23492</td>\n",
       "      <td>5</td>\n",
       "      <td>NaN</td>\n",
       "      <td>NaN</td>\n",
       "      <td>False</td>\n",
       "      <td>usuario_weightlifting</td>\n",
       "    </tr>\n",
       "    <tr>\n",
       "      <th>3</th>\n",
       "      <td>2015-10-23 17:06:37</td>\n",
       "      <td>Incline Bench Press (Barbell)</td>\n",
       "      <td>4</td>\n",
       "      <td>83.91452</td>\n",
       "      <td>7</td>\n",
       "      <td>NaN</td>\n",
       "      <td>NaN</td>\n",
       "      <td>False</td>\n",
       "      <td>usuario_weightlifting</td>\n",
       "    </tr>\n",
       "    <tr>\n",
       "      <th>4</th>\n",
       "      <td>2015-10-23 17:06:37</td>\n",
       "      <td>Incline Bench Press (Barbell)</td>\n",
       "      <td>5</td>\n",
       "      <td>104.32616</td>\n",
       "      <td>8</td>\n",
       "      <td>NaN</td>\n",
       "      <td>NaN</td>\n",
       "      <td>False</td>\n",
       "      <td>usuario_weightlifting</td>\n",
       "    </tr>\n",
       "  </tbody>\n",
       "</table>\n",
       "</div>"
      ],
      "text/plain": [
       "                fecha                      ejercicio  set  peso (kg)  reps  \\\n",
       "0 2015-10-23 17:06:37  Incline Bench Press (Barbell)    1   61.23492     8   \n",
       "1 2015-10-23 17:06:37  Incline Bench Press (Barbell)    2   61.23492     8   \n",
       "2 2015-10-23 17:06:37  Incline Bench Press (Barbell)    3   61.23492     5   \n",
       "3 2015-10-23 17:06:37  Incline Bench Press (Barbell)    4   83.91452     7   \n",
       "4 2015-10-23 17:06:37  Incline Bench Press (Barbell)    5  104.32616     8   \n",
       "\n",
       "   rpe  rir  cumplió_objetivo                usuario  \n",
       "0  NaN  NaN             False  usuario_weightlifting  \n",
       "1  NaN  NaN             False  usuario_weightlifting  \n",
       "2  NaN  NaN             False  usuario_weightlifting  \n",
       "3  NaN  NaN             False  usuario_weightlifting  \n",
       "4  NaN  NaN             False  usuario_weightlifting  "
      ]
     },
     "execution_count": 133,
     "metadata": {},
     "output_type": "execute_result"
    }
   ],
   "source": [
    "df_weightlifting.head()"
   ]
  },
  {
   "cell_type": "code",
   "execution_count": 134,
   "id": "5c0712b1",
   "metadata": {},
   "outputs": [
    {
     "data": {
      "text/html": [
       "<div>\n",
       "<style scoped>\n",
       "    .dataframe tbody tr th:only-of-type {\n",
       "        vertical-align: middle;\n",
       "    }\n",
       "\n",
       "    .dataframe tbody tr th {\n",
       "        vertical-align: top;\n",
       "    }\n",
       "\n",
       "    .dataframe thead th {\n",
       "        text-align: right;\n",
       "    }\n",
       "</style>\n",
       "<table border=\"1\" class=\"dataframe\">\n",
       "  <thead>\n",
       "    <tr style=\"text-align: right;\">\n",
       "      <th></th>\n",
       "      <th>usuario</th>\n",
       "      <th>fecha</th>\n",
       "      <th>ejercicio</th>\n",
       "      <th>set</th>\n",
       "      <th>peso (kg)</th>\n",
       "      <th>reps</th>\n",
       "      <th>rpe</th>\n",
       "      <th>rir</th>\n",
       "      <th>cumplió_objetivo</th>\n",
       "    </tr>\n",
       "  </thead>\n",
       "  <tbody>\n",
       "    <tr>\n",
       "      <th>0</th>\n",
       "      <td>intermedio_1</td>\n",
       "      <td>2025-01-01</td>\n",
       "      <td>peso muerto</td>\n",
       "      <td>1</td>\n",
       "      <td>112.8</td>\n",
       "      <td>5</td>\n",
       "      <td>6.6</td>\n",
       "      <td>3.4</td>\n",
       "      <td>False</td>\n",
       "    </tr>\n",
       "    <tr>\n",
       "      <th>1</th>\n",
       "      <td>intermedio_1</td>\n",
       "      <td>2025-01-01</td>\n",
       "      <td>peso muerto</td>\n",
       "      <td>2</td>\n",
       "      <td>113.9</td>\n",
       "      <td>7</td>\n",
       "      <td>6.9</td>\n",
       "      <td>3.1</td>\n",
       "      <td>True</td>\n",
       "    </tr>\n",
       "    <tr>\n",
       "      <th>2</th>\n",
       "      <td>intermedio_1</td>\n",
       "      <td>2025-01-01</td>\n",
       "      <td>peso muerto</td>\n",
       "      <td>3</td>\n",
       "      <td>115.1</td>\n",
       "      <td>8</td>\n",
       "      <td>7.6</td>\n",
       "      <td>2.4</td>\n",
       "      <td>True</td>\n",
       "    </tr>\n",
       "    <tr>\n",
       "      <th>3</th>\n",
       "      <td>intermedio_1</td>\n",
       "      <td>2025-01-01</td>\n",
       "      <td>peso muerto</td>\n",
       "      <td>4</td>\n",
       "      <td>116.2</td>\n",
       "      <td>8</td>\n",
       "      <td>6.7</td>\n",
       "      <td>3.3</td>\n",
       "      <td>True</td>\n",
       "    </tr>\n",
       "    <tr>\n",
       "      <th>4</th>\n",
       "      <td>intermedio_1</td>\n",
       "      <td>2025-01-01</td>\n",
       "      <td>peso muerto</td>\n",
       "      <td>5</td>\n",
       "      <td>117.4</td>\n",
       "      <td>6</td>\n",
       "      <td>8.2</td>\n",
       "      <td>1.8</td>\n",
       "      <td>False</td>\n",
       "    </tr>\n",
       "  </tbody>\n",
       "</table>\n",
       "</div>"
      ],
      "text/plain": [
       "        usuario       fecha    ejercicio  set  peso (kg)  reps  rpe  rir  \\\n",
       "0  intermedio_1  2025-01-01  peso muerto    1      112.8     5  6.6  3.4   \n",
       "1  intermedio_1  2025-01-01  peso muerto    2      113.9     7  6.9  3.1   \n",
       "2  intermedio_1  2025-01-01  peso muerto    3      115.1     8  7.6  2.4   \n",
       "3  intermedio_1  2025-01-01  peso muerto    4      116.2     8  6.7  3.3   \n",
       "4  intermedio_1  2025-01-01  peso muerto    5      117.4     6  8.2  1.8   \n",
       "\n",
       "   cumplió_objetivo  \n",
       "0             False  \n",
       "1              True  \n",
       "2              True  \n",
       "3              True  \n",
       "4             False  "
      ]
     },
     "execution_count": 134,
     "metadata": {},
     "output_type": "execute_result"
    }
   ],
   "source": [
    "df_sintetico = pd.read_csv('datos_sinteticos.csv')\n",
    "df_sintetico.head()"
   ]
  },
  {
   "cell_type": "code",
   "execution_count": 135,
   "id": "16c60a0b",
   "metadata": {},
   "outputs": [],
   "source": [
    "df_sintetico['fecha'] = pd.to_datetime(df_sintetico['fecha'], errors='coerce')\n",
    "df_sintetico['ejercicio'] = df_sintetico['ejercicio'].astype('category')"
   ]
  },
  {
   "cell_type": "code",
   "execution_count": 136,
   "id": "229894d4",
   "metadata": {},
   "outputs": [
    {
     "name": "stdout",
     "output_type": "stream",
     "text": [
      "<class 'pandas.core.frame.DataFrame'>\n",
      "RangeIndex: 4093 entries, 0 to 4092\n",
      "Data columns (total 9 columns):\n",
      " #   Column            Non-Null Count  Dtype         \n",
      "---  ------            --------------  -----         \n",
      " 0   usuario           4093 non-null   object        \n",
      " 1   fecha             4093 non-null   datetime64[ns]\n",
      " 2   ejercicio         4093 non-null   category      \n",
      " 3   set               4093 non-null   int64         \n",
      " 4   peso (kg)         4093 non-null   float64       \n",
      " 5   reps              4093 non-null   int64         \n",
      " 6   rpe               4093 non-null   float64       \n",
      " 7   rir               4093 non-null   float64       \n",
      " 8   cumplió_objetivo  4093 non-null   bool          \n",
      "dtypes: bool(1), category(1), datetime64[ns](1), float64(3), int64(2), object(1)\n",
      "memory usage: 232.2+ KB\n"
     ]
    }
   ],
   "source": [
    "df_sintetico.info()"
   ]
  },
  {
   "cell_type": "code",
   "execution_count": 137,
   "id": "ec9c002a",
   "metadata": {},
   "outputs": [
    {
     "data": {
      "text/html": [
       "<div>\n",
       "<style scoped>\n",
       "    .dataframe tbody tr th:only-of-type {\n",
       "        vertical-align: middle;\n",
       "    }\n",
       "\n",
       "    .dataframe tbody tr th {\n",
       "        vertical-align: top;\n",
       "    }\n",
       "\n",
       "    .dataframe thead th {\n",
       "        text-align: right;\n",
       "    }\n",
       "</style>\n",
       "<table border=\"1\" class=\"dataframe\">\n",
       "  <thead>\n",
       "    <tr style=\"text-align: right;\">\n",
       "      <th></th>\n",
       "      <th>fecha</th>\n",
       "      <th>set</th>\n",
       "      <th>peso (kg)</th>\n",
       "      <th>reps</th>\n",
       "      <th>rpe</th>\n",
       "      <th>rir</th>\n",
       "    </tr>\n",
       "  </thead>\n",
       "  <tbody>\n",
       "    <tr>\n",
       "      <th>count</th>\n",
       "      <td>4093</td>\n",
       "      <td>4093.000000</td>\n",
       "      <td>4093.000000</td>\n",
       "      <td>4093.000000</td>\n",
       "      <td>4093.000000</td>\n",
       "      <td>4093.000000</td>\n",
       "    </tr>\n",
       "    <tr>\n",
       "      <th>mean</th>\n",
       "      <td>2025-02-14 16:21:55.807475968</td>\n",
       "      <td>2.587589</td>\n",
       "      <td>82.644051</td>\n",
       "      <td>7.491327</td>\n",
       "      <td>8.150892</td>\n",
       "      <td>1.849108</td>\n",
       "    </tr>\n",
       "    <tr>\n",
       "      <th>min</th>\n",
       "      <td>2025-01-01 00:00:00</td>\n",
       "      <td>1.000000</td>\n",
       "      <td>0.000000</td>\n",
       "      <td>5.000000</td>\n",
       "      <td>6.000000</td>\n",
       "      <td>0.000000</td>\n",
       "    </tr>\n",
       "    <tr>\n",
       "      <th>25%</th>\n",
       "      <td>2025-01-23 00:00:00</td>\n",
       "      <td>2.000000</td>\n",
       "      <td>43.300000</td>\n",
       "      <td>6.000000</td>\n",
       "      <td>7.500000</td>\n",
       "      <td>1.200000</td>\n",
       "    </tr>\n",
       "    <tr>\n",
       "      <th>50%</th>\n",
       "      <td>2025-02-15 00:00:00</td>\n",
       "      <td>3.000000</td>\n",
       "      <td>67.500000</td>\n",
       "      <td>7.000000</td>\n",
       "      <td>8.200000</td>\n",
       "      <td>1.800000</td>\n",
       "    </tr>\n",
       "    <tr>\n",
       "      <th>75%</th>\n",
       "      <td>2025-03-09 00:00:00</td>\n",
       "      <td>4.000000</td>\n",
       "      <td>119.800000</td>\n",
       "      <td>9.000000</td>\n",
       "      <td>8.800000</td>\n",
       "      <td>2.500000</td>\n",
       "    </tr>\n",
       "    <tr>\n",
       "      <th>max</th>\n",
       "      <td>2025-03-31 00:00:00</td>\n",
       "      <td>5.000000</td>\n",
       "      <td>340.200000</td>\n",
       "      <td>10.000000</td>\n",
       "      <td>10.000000</td>\n",
       "      <td>4.000000</td>\n",
       "    </tr>\n",
       "    <tr>\n",
       "      <th>std</th>\n",
       "      <td>NaN</td>\n",
       "      <td>1.259747</td>\n",
       "      <td>60.793280</td>\n",
       "      <td>1.712679</td>\n",
       "      <td>0.961127</td>\n",
       "      <td>0.961127</td>\n",
       "    </tr>\n",
       "  </tbody>\n",
       "</table>\n",
       "</div>"
      ],
      "text/plain": [
       "                               fecha          set    peso (kg)         reps  \\\n",
       "count                           4093  4093.000000  4093.000000  4093.000000   \n",
       "mean   2025-02-14 16:21:55.807475968     2.587589    82.644051     7.491327   \n",
       "min              2025-01-01 00:00:00     1.000000     0.000000     5.000000   \n",
       "25%              2025-01-23 00:00:00     2.000000    43.300000     6.000000   \n",
       "50%              2025-02-15 00:00:00     3.000000    67.500000     7.000000   \n",
       "75%              2025-03-09 00:00:00     4.000000   119.800000     9.000000   \n",
       "max              2025-03-31 00:00:00     5.000000   340.200000    10.000000   \n",
       "std                              NaN     1.259747    60.793280     1.712679   \n",
       "\n",
       "               rpe          rir  \n",
       "count  4093.000000  4093.000000  \n",
       "mean      8.150892     1.849108  \n",
       "min       6.000000     0.000000  \n",
       "25%       7.500000     1.200000  \n",
       "50%       8.200000     1.800000  \n",
       "75%       8.800000     2.500000  \n",
       "max      10.000000     4.000000  \n",
       "std       0.961127     0.961127  "
      ]
     },
     "execution_count": 137,
     "metadata": {},
     "output_type": "execute_result"
    }
   ],
   "source": [
    "df_sintetico.describe()"
   ]
  },
  {
   "cell_type": "code",
   "execution_count": 138,
   "id": "3b388084",
   "metadata": {},
   "outputs": [
    {
     "data": {
      "text/plain": [
       "usuario             0\n",
       "fecha               0\n",
       "ejercicio           0\n",
       "set                 0\n",
       "peso (kg)           0\n",
       "reps                0\n",
       "rpe                 0\n",
       "rir                 0\n",
       "cumplió_objetivo    0\n",
       "dtype: int64"
      ]
     },
     "execution_count": 138,
     "metadata": {},
     "output_type": "execute_result"
    }
   ],
   "source": [
    "df_sintetico.isnull().sum()"
   ]
  },
  {
   "cell_type": "code",
   "execution_count": 139,
   "id": "8d622bd4",
   "metadata": {},
   "outputs": [
    {
     "data": {
      "text/plain": [
       "0\n",
       "novato        2028\n",
       "intermedio    1368\n",
       "avanzado       697\n",
       "Name: count, dtype: int64"
      ]
     },
     "execution_count": 139,
     "metadata": {},
     "output_type": "execute_result"
    }
   ],
   "source": [
    "df_sintetico['usuario'].str.extract('(novato|intermedio|avanzado)')[0].value_counts()"
   ]
  },
  {
   "cell_type": "code",
   "execution_count": 140,
   "id": "b47e11d7",
   "metadata": {},
   "outputs": [
    {
     "data": {
      "image/png": "[encoded data removed]",
      "text/plain": [
       "<Figure size 640x480 with 1 Axes>"
      ]
     },
     "metadata": {},
     "output_type": "display_data"
    }
   ],
   "source": [
    "import seaborn as sns\n",
    "import matplotlib.pyplot as plt\n",
    "\n",
    "df_sintetico['perfil'] = df_sintetico['usuario'].str.extract('(novato|intermedio|avanzado)')[0]\n",
    "sns.boxplot(data=df_sintetico, x='perfil', y='peso (kg)')\n",
    "plt.title('Distribución del peso por perfil de usuario')\n",
    "plt.show()"
   ]
  },
  {
   "cell_type": "code",
   "execution_count": 141,
   "id": "b0f75810",
   "metadata": {},
   "outputs": [
    {
     "data": {
      "image/png": "[encoded data removed]",
      "text/plain": [
       "<Figure size 640x480 with 1 Axes>"
      ]
     },
     "metadata": {},
     "output_type": "display_data"
    }
   ],
   "source": [
    "usuario_random = df_sintetico['usuario'].sample(1).values[0]\n",
    "df_user = df_sintetico[df_sintetico['usuario'] == usuario_random]\n",
    "sns.lineplot(data=df_user, x='fecha', y='peso (kg)')\n",
    "plt.title(f'Evolución de carga para {usuario_random}')\n",
    "plt.xticks(rotation=45)\n",
    "plt.show()"
   ]
  },
  {
   "cell_type": "code",
   "execution_count": 142,
   "id": "bb99da0d",
   "metadata": {},
   "outputs": [
    {
     "data": {
      "text/plain": [
       "np.float64(29.855851453701444)"
      ]
     },
     "execution_count": 142,
     "metadata": {},
     "output_type": "execute_result"
    }
   ],
   "source": [
    "df_sintetico['cumplió_objetivo'].mean() * 100  # % de cumplimiento\n"
   ]
  },
  {
   "cell_type": "code",
   "execution_count": 143,
   "id": "cf483215",
   "metadata": {},
   "outputs": [
    {
     "name": "stdout",
     "output_type": "stream",
     "text": [
      "Index(['Date', 'Workout Name', 'Duration', 'Exercise Name', 'Weight', 'Reps',\n",
      "       'Distance', 'Seconds', 'Notes', 'Workout Notes', 'RPE', 'set',\n",
      "       'usuario'],\n",
      "      dtype='object')\n",
      "Index(['fecha', 'ejercicio', 'set', 'peso (kg)', 'reps', 'rpe', 'rir',\n",
      "       'cumplió_objetivo', 'usuario'],\n",
      "      dtype='object')\n",
      "Index(['usuario', 'fecha', 'ejercicio', 'set', 'peso (kg)', 'reps', 'rpe',\n",
      "       'rir', 'cumplió_objetivo', 'perfil'],\n",
      "      dtype='object')\n"
     ]
    }
   ],
   "source": [
    "print(df_strong.columns)\n",
    "print(df_weightlifting.columns)\n",
    "print(df_sintetico.columns)"
   ]
  },
  {
   "cell_type": "code",
   "execution_count": 144,
   "id": "d91b8adf",
   "metadata": {},
   "outputs": [
    {
     "name": "stdout",
     "output_type": "stream",
     "text": [
      "<class 'pandas.core.frame.DataFrame'>\n",
      "RangeIndex: 3989 entries, 0 to 3988\n",
      "Data columns (total 9 columns):\n",
      " #   Column            Non-Null Count  Dtype  \n",
      "---  ------            --------------  -----  \n",
      " 0   usuario           3989 non-null   object \n",
      " 1   fecha             3989 non-null   object \n",
      " 2   ejercicio         3989 non-null   object \n",
      " 3   set               3989 non-null   int64  \n",
      " 4   peso (kg)         3989 non-null   float64\n",
      " 5   reps              3989 non-null   int64  \n",
      " 6   rpe               3767 non-null   float64\n",
      " 7   rir               3767 non-null   float64\n",
      " 8   cumplió_objetivo  3989 non-null   bool   \n",
      "dtypes: bool(1), float64(3), int64(2), object(3)\n",
      "memory usage: 253.3+ KB\n",
      "None\n"
     ]
    }
   ],
   "source": [
    "# 1) Selecciono sólo las columnas que me interesan\n",
    "df_strong = df_strong[[\n",
    "    'Date',\n",
    "    'Exercise Name',\n",
    "    'set',\n",
    "    'Weight',\n",
    "    'Reps',\n",
    "    'RPE',\n",
    "    'usuario'    # si ya la añadiste antes\n",
    "]]\n",
    "\n",
    "# 2) Renombro al esquema unificado\n",
    "df_strong = df_strong.rename(columns={\n",
    "    'Date': 'fecha',\n",
    "    'Exercise Name': 'ejercicio',\n",
    "    'set': 'set',\n",
    "    'Weight': 'peso (kg)',\n",
    "    'Reps': 'reps',\n",
    "    'RPE': 'rpe'\n",
    "})\n",
    "\n",
    "# 3) Calculo RIR y cumplió_objetivo\n",
    "df_strong['rir'] = 10 - df_strong['rpe']\n",
    "df_strong['cumplió_objetivo'] = df_strong['reps'] >= 7\n",
    "\n",
    "# 4) Reordeno columnas al formato final\n",
    "df_strong = df_strong[[\n",
    "    'usuario','fecha','ejercicio','set','peso (kg)',\n",
    "    'reps','rpe','rir','cumplió_objetivo'\n",
    "]]\n",
    "\n",
    "# Compruebo\n",
    "print(df_strong.info())\n"
   ]
  },
  {
   "cell_type": "code",
   "execution_count": 145,
   "id": "dea3b15a",
   "metadata": {},
   "outputs": [
    {
     "name": "stdout",
     "output_type": "stream",
     "text": [
      "<class 'pandas.core.frame.DataFrame'>\n",
      "RangeIndex: 3989 entries, 0 to 3988\n",
      "Data columns (total 9 columns):\n",
      " #   Column            Non-Null Count  Dtype         \n",
      "---  ------            --------------  -----         \n",
      " 0   usuario           3989 non-null   category      \n",
      " 1   fecha             3989 non-null   datetime64[ns]\n",
      " 2   ejercicio         3989 non-null   category      \n",
      " 3   set               3989 non-null   int64         \n",
      " 4   peso (kg)         3989 non-null   float64       \n",
      " 5   reps              3989 non-null   int64         \n",
      " 6   rpe               3767 non-null   float64       \n",
      " 7   rir               3767 non-null   float64       \n",
      " 8   cumplió_objetivo  3989 non-null   bool          \n",
      "dtypes: bool(1), category(2), datetime64[ns](1), float64(3), int64(2)\n",
      "memory usage: 200.3 KB\n",
      "None\n"
     ]
    }
   ],
   "source": [
    "import pandas as pd\n",
    "\n",
    "# 1) Fecha a datetime\n",
    "df_strong['fecha'] = pd.to_datetime(df_strong['fecha'], errors='coerce')\n",
    "# 2) Ejercicio a category\n",
    "df_strong['ejercicio'] = df_strong['ejercicio'].astype('category')\n",
    "# 3) Usuario a category\n",
    "df_strong['usuario'] = df_strong['usuario'].astype('category')\n",
    "\n",
    "# Verifica\n",
    "print(df_strong.info())"
   ]
  },
  {
   "cell_type": "code",
   "execution_count": 148,
   "id": "18bfd4a7",
   "metadata": {},
   "outputs": [],
   "source": [
    "df_weightlifting['usuario'] = df_weightlifting['usuario'].astype('category')\n",
    "df_sintetico['usuario'] = df_sintetico['usuario'].astype('category')"
   ]
  },
  {
   "cell_type": "code",
   "execution_count": 149,
   "id": "3f50f6df",
   "metadata": {},
   "outputs": [
    {
     "name": "stdout",
     "output_type": "stream",
     "text": [
      "<class 'pandas.core.frame.DataFrame'>\n",
      "RangeIndex: 9932 entries, 0 to 9931\n",
      "Data columns (total 9 columns):\n",
      " #   Column            Non-Null Count  Dtype         \n",
      "---  ------            --------------  -----         \n",
      " 0   fecha             9932 non-null   datetime64[ns]\n",
      " 1   ejercicio         9932 non-null   category      \n",
      " 2   set               9932 non-null   int64         \n",
      " 3   peso (kg)         9932 non-null   float64       \n",
      " 4   reps              9932 non-null   int64         \n",
      " 5   rpe               0 non-null      float64       \n",
      " 6   rir               0 non-null      float64       \n",
      " 7   cumplió_objetivo  9932 non-null   bool          \n",
      " 8   usuario           9932 non-null   category      \n",
      "dtypes: bool(1), category(2), datetime64[ns](1), float64(3), int64(2)\n",
      "memory usage: 497.6 KB\n",
      "None\n"
     ]
    }
   ],
   "source": [
    "print(df_weightlifting.info())"
   ]
  },
  {
   "cell_type": "code",
   "execution_count": 152,
   "id": "092fc771",
   "metadata": {},
   "outputs": [],
   "source": [
    "df_sintetico.drop(columns=['perfil'], inplace=True)"
   ]
  },
  {
   "cell_type": "code",
   "execution_count": 153,
   "id": "2cd0a5ef",
   "metadata": {},
   "outputs": [
    {
     "name": "stdout",
     "output_type": "stream",
     "text": [
      "<class 'pandas.core.frame.DataFrame'>\n",
      "RangeIndex: 4093 entries, 0 to 4092\n",
      "Data columns (total 9 columns):\n",
      " #   Column            Non-Null Count  Dtype         \n",
      "---  ------            --------------  -----         \n",
      " 0   usuario           4093 non-null   category      \n",
      " 1   fecha             4093 non-null   datetime64[ns]\n",
      " 2   ejercicio         4093 non-null   category      \n",
      " 3   set               4093 non-null   int64         \n",
      " 4   peso (kg)         4093 non-null   float64       \n",
      " 5   reps              4093 non-null   int64         \n",
      " 6   rpe               4093 non-null   float64       \n",
      " 7   rir               4093 non-null   float64       \n",
      " 8   cumplió_objetivo  4093 non-null   bool          \n",
      "dtypes: bool(1), category(2), datetime64[ns](1), float64(3), int64(2)\n",
      "memory usage: 205.5 KB\n",
      "None\n"
     ]
    }
   ],
   "source": [
    "print(df_sintetico.info())"
   ]
  },
  {
   "cell_type": "code",
   "execution_count": 154,
   "id": "bf8c4e97",
   "metadata": {},
   "outputs": [
    {
     "name": "stdout",
     "output_type": "stream",
     "text": [
      "<class 'pandas.core.frame.DataFrame'>\n",
      "RangeIndex: 18014 entries, 0 to 18013\n",
      "Data columns (total 9 columns):\n",
      " #   Column            Non-Null Count  Dtype         \n",
      "---  ------            --------------  -----         \n",
      " 0   usuario           18014 non-null  object        \n",
      " 1   fecha             18014 non-null  datetime64[ns]\n",
      " 2   ejercicio         18014 non-null  object        \n",
      " 3   set               18014 non-null  int64         \n",
      " 4   peso (kg)         18014 non-null  float64       \n",
      " 5   reps              18014 non-null  int64         \n",
      " 6   rpe               7860 non-null   float64       \n",
      " 7   rir               7860 non-null   float64       \n",
      " 8   cumplió_objetivo  18014 non-null  bool          \n",
      "dtypes: bool(1), datetime64[ns](1), float64(3), int64(2), object(2)\n",
      "memory usage: 1.1+ MB\n",
      "None\n"
     ]
    }
   ],
   "source": [
    "df_total = pd.concat([df_strong, df_weightlifting, df_sintetico],\n",
    "                     ignore_index=True)\n",
    "print(df_total.info())\n"
   ]
  },
  {
   "cell_type": "code",
   "execution_count": 155,
   "id": "d7df7d5a",
   "metadata": {},
   "outputs": [],
   "source": [
    "df_total.to_csv(\"dataset_combinado.csv\", index=False)\n"
   ]
  }
 ],
 "metadata": {
  "kernelspec": {
   "display_name": "Python 3",
   "language": "python",
   "name": "python3"
  },
  "language_info": {
   "codemirror_mode": {
    "name": "ipython",
    "version": 3
   },
   "file_extension": ".py",
   "mimetype": "text/x-python",
   "name": "python",
   "nbconvert_exporter": "python",
   "pygments_lexer": "ipython3",
   "version": "3.13.2"
  }
 },
 "nbformat": 4,
 "nbformat_minor": 5
}
