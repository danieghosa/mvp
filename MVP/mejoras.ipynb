{
 "cells": [
  {
   "cell_type": "markdown",
   "id": "88b15675",
   "metadata": {},
   "source": [
    "- Las recomendaciones no son coherentes, saltan de una carga a otra de manera muy brusca\n",
    "- Agregar una gráfica de progresión y una de progresión futura\n",
    "- Crear la aplicación con una interfaz más estética (color, imágenes...)\n",
    "- Que guarde la sesiones de entrenamiento (o al menos los registros de cada ejercicio para que se vean reflejados en la gráfica)"
   ]
  },
  {
   "cell_type": "markdown",
   "id": "aa1f5e88",
   "metadata": {},
   "source": [
    "¿Qué es?\n",
    "- Es una tecnología entrenada por IA que ayuda a la sobrecarga progresiva en ejercicios en el gimnasio\n",
    "\n",
    "¿A quién ayuda?\n",
    "- A entrenadores personales que necesiten ayuda para llevar a sus clientes\n",
    "- Usuarios que se llevan ellos mismos y quieren optimizar su progreso\n",
    "\n",
    "Objetivos posibles\n",
    "- Introducirla en aplicaciones ya exitentes\n",
    "- Desarrollar una aplicación con la tecnología implementada"
   ]
  },
  {
   "cell_type": "code",
   "execution_count": null,
   "id": "a2887ca3",
   "metadata": {},
   "outputs": [],
   "source": []
  }
 ],
 "metadata": {
  "kernelspec": {
   "display_name": "Python 3",
   "language": "python",
   "name": "python3"
  },
  "language_info": {
   "codemirror_mode": {
    "name": "ipython",
    "version": 3
   },
   "file_extension": ".py",
   "mimetype": "text/x-python",
   "name": "python",
   "nbconvert_exporter": "python",
   "pygments_lexer": "ipython3",
   "version": "3.13.2"
  }
 },
 "nbformat": 4,
 "nbformat_minor": 5
}
