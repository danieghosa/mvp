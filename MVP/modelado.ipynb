{
 "cells": [
  {
   "cell_type": "code",
   "execution_count": 2,
   "id": "e765e974",
   "metadata": {},
   "outputs": [
    {
     "name": "stdout",
     "output_type": "stream",
     "text": [
      "X_train.shape: (3689, 5)\n",
      "X_test.shape:  (0, 5)\n"
     ]
    }
   ],
   "source": [
    "print(\"X_train.shape:\", X_train.shape)\n",
    "print(\"X_test.shape: \", X_test.shape)\n"
   ]
  },
  {
   "cell_type": "code",
   "execution_count": 3,
   "id": "a6fa00ea",
   "metadata": {},
   "outputs": [
    {
     "name": "stdout",
     "output_type": "stream",
     "text": [
      "Mínima fecha: 2021-09-13 10:41:41\n",
      "Máxima fecha: 2024-02-02 17:37:32\n"
     ]
    }
   ],
   "source": [
    "print(\"Mínima fecha:\", df_model['fecha'].min())\n",
    "print(\"Máxima fecha:\", df_model['fecha'].max())"
   ]
  },
  {
   "cell_type": "code",
   "execution_count": 9,
   "id": "ac77e77e",
   "metadata": {},
   "outputs": [
    {
     "name": "stdout",
     "output_type": "stream",
     "text": [
      "Train shape: (3503, 5)  Test shape: (186, 5)\n",
      "MAE (solo datos reales): 1.45 kg\n",
      "             usuario              ejercicio               fecha  peso (kg)  \\\n",
      "3821  usuario_strong  Bicep Curl (Dumbbell) 2024-01-04 11:45:06       30.0   \n",
      "3822  usuario_strong  Bicep Curl (Dumbbell) 2024-01-04 11:45:06       30.0   \n",
      "3823  usuario_strong  Bicep Curl (Dumbbell) 2024-01-04 11:45:06       30.0   \n",
      "3824  usuario_strong  Bicep Curl (Dumbbell) 2024-01-04 11:45:06       25.0   \n",
      "3837  usuario_strong  Bicep Curl (Dumbbell) 2024-01-04 11:45:06       30.0   \n",
      "\n",
      "      peso_next  predicción  \n",
      "3821       30.0   29.907807  \n",
      "3822       30.0   29.907807  \n",
      "3823       25.0   29.907807  \n",
      "3824       30.0   29.907807  \n",
      "3837       30.0   29.330357  \n"
     ]
    }
   ],
   "source": [
    "import pandas as pd\n",
    "from sklearn.tree import DecisionTreeRegressor\n",
    "from sklearn.metrics import mean_absolute_error\n",
    "\n",
    "# 0) Carga de datos\n",
    "df = pd.read_csv(\"dataset_combinado.csv\", parse_dates=['fecha'])\n",
    "\n",
    "# 1) Filtrar sólo datos reales\n",
    "df_real = df[df['usuario'].isin(['usuario_strong', 'usuario_weightlifting'])].copy()\n",
    "\n",
    "# 2) Ordenar y crear la variable objetivo: próxima carga\n",
    "df_real = df_real.sort_values(['usuario', 'ejercicio', 'fecha'])\n",
    "df_real['peso_next'] = df_real.groupby(['usuario','ejercicio'])['peso (kg)'].shift(-1)\n",
    "\n",
    "# 3) Crear features de lag y time-deltas\n",
    "df_real['peso_prev'] = df_real.groupby(['usuario','ejercicio'])['peso (kg)'].shift(1)\n",
    "df_real['reps_prev'] = df_real.groupby(['usuario','ejercicio'])['reps'].shift(1)\n",
    "df_real['rir_prev']  = df_real.groupby(['usuario','ejercicio'])['rir'].shift(1)\n",
    "df_real['delta_peso'] = df_real['peso (kg)'] - df_real['peso_prev']\n",
    "df_real['dias_entre_sesiones'] = df_real.groupby(['usuario','ejercicio'])['fecha'].diff().dt.days\n",
    "\n",
    "# 4) Eliminar filas con NaN en features u objetivo\n",
    "features = ['peso_prev','reps_prev','rir_prev','delta_peso','dias_entre_sesiones']\n",
    "df_model = df_real.dropna(subset=features + ['peso_next']).copy()\n",
    "\n",
    "# 5) Split temporal: antes de 2024-01-01 → train; desde 2024-01-01 → test\n",
    "split_date = '2024-01-03'\n",
    "train = df_model[df_model['fecha'] < split_date]\n",
    "test  = df_model[df_model['fecha'] >= split_date]\n",
    "\n",
    "X_train, y_train = train[features], train['peso_next']\n",
    "X_test,  y_test  = test[features],  test['peso_next']\n",
    "\n",
    "print(f\"Train shape: {X_train.shape}  Test shape: {X_test.shape}\")\n",
    "\n",
    "# 6) Entrenar modelo baseline\n",
    "model = DecisionTreeRegressor(max_depth=5, random_state=42)\n",
    "model.fit(X_train, y_train)\n",
    "\n",
    "# 7) Predecir y evaluar\n",
    "preds = model.predict(X_test)\n",
    "mae = mean_absolute_error(y_test, preds)\n",
    "print(f\"MAE (solo datos reales): {mae:.2f} kg\")\n",
    "\n",
    "# 8) Ver primeras predicciones vs realidad\n",
    "comparison = test[['usuario','ejercicio','fecha','peso (kg)','peso_next']].copy()\n",
    "comparison['predicción'] = preds\n",
    "print(comparison.head(5))\n"
   ]
  },
  {
   "cell_type": "code",
   "execution_count": 10,
   "id": "2710a88b",
   "metadata": {},
   "outputs": [
    {
     "name": "stdout",
     "output_type": "stream",
     "text": [
      "MAE regla +2 %: 1.44 kg\n"
     ]
    }
   ],
   "source": [
    "# Regla +2 % comparación\n",
    "preds_rule = test['peso (kg)'] * 1.02\n",
    "mae_rule = mean_absolute_error(y_test, preds_rule)\n",
    "print(f\"MAE regla +2 %: {mae_rule:.2f} kg\")\n"
   ]
  }
 ],
 "metadata": {
  "kernelspec": {
   "display_name": "Python 3",
   "language": "python",
   "name": "python3"
  },
  "language_info": {
   "codemirror_mode": {
    "name": "ipython",
    "version": 3
   },
   "file_extension": ".py",
   "mimetype": "text/x-python",
   "name": "python",
   "nbconvert_exporter": "python",
   "pygments_lexer": "ipython3",
   "version": "3.13.2"
  }
 },
 "nbformat": 4,
 "nbformat_minor": 5
}
