{
 "cells": [
  {
   "cell_type": "code",
   "execution_count": 1,
   "id": "2d942c1a",
   "metadata": {},
   "outputs": [],
   "source": [
    "# Importar librerías\n",
    "import pandas as pd\n",
    "import numpy as np\n",
    "import warnings\n",
    "import matplotlib.pyplot as plt\n",
    "import seaborn as sns\n",
    "from sklearn.preprocessing import StandardScaler, LabelEncoder"
   ]
  },
  {
   "cell_type": "code",
   "execution_count": 2,
   "id": "67a111b0",
   "metadata": {},
   "outputs": [
    {
     "data": {
      "text/html": [
       "<div>\n",
       "<style scoped>\n",
       "    .dataframe tbody tr th:only-of-type {\n",
       "        vertical-align: middle;\n",
       "    }\n",
       "\n",
       "    .dataframe tbody tr th {\n",
       "        vertical-align: top;\n",
       "    }\n",
       "\n",
       "    .dataframe thead th {\n",
       "        text-align: right;\n",
       "    }\n",
       "</style>\n",
       "<table border=\"1\" class=\"dataframe\">\n",
       "  <thead>\n",
       "    <tr style=\"text-align: right;\">\n",
       "      <th></th>\n",
       "      <th>Date</th>\n",
       "      <th>Workout Name</th>\n",
       "      <th>Duration</th>\n",
       "      <th>Exercise Name</th>\n",
       "      <th>Set Order</th>\n",
       "      <th>Weight</th>\n",
       "      <th>Reps</th>\n",
       "      <th>Distance</th>\n",
       "      <th>Seconds</th>\n",
       "      <th>Notes</th>\n",
       "      <th>Workout Notes</th>\n",
       "      <th>RPE</th>\n",
       "    </tr>\n",
       "  </thead>\n",
       "  <tbody>\n",
       "    <tr>\n",
       "      <th>0</th>\n",
       "      <td>2021-09-13 10:41:41</td>\n",
       "      <td>PUSH 1</td>\n",
       "      <td>1h 12m</td>\n",
       "      <td>Bench Press (Barbell)</td>\n",
       "      <td>1</td>\n",
       "      <td>35.0</td>\n",
       "      <td>10</td>\n",
       "      <td>0</td>\n",
       "      <td>0</td>\n",
       "      <td>NaN</td>\n",
       "      <td>Focusing on CHEST, SHOULDERS and TRICEPS</td>\n",
       "      <td>9.0</td>\n",
       "    </tr>\n",
       "    <tr>\n",
       "      <th>1</th>\n",
       "      <td>2021-09-13 10:41:41</td>\n",
       "      <td>PUSH 1</td>\n",
       "      <td>1h 12m</td>\n",
       "      <td>Bench Press (Barbell)</td>\n",
       "      <td>2</td>\n",
       "      <td>35.0</td>\n",
       "      <td>9</td>\n",
       "      <td>0</td>\n",
       "      <td>0</td>\n",
       "      <td>NaN</td>\n",
       "      <td>NaN</td>\n",
       "      <td>10.0</td>\n",
       "    </tr>\n",
       "    <tr>\n",
       "      <th>2</th>\n",
       "      <td>2021-09-13 10:41:41</td>\n",
       "      <td>PUSH 1</td>\n",
       "      <td>1h 12m</td>\n",
       "      <td>Bench Press (Barbell)</td>\n",
       "      <td>3</td>\n",
       "      <td>35.0</td>\n",
       "      <td>8</td>\n",
       "      <td>0</td>\n",
       "      <td>0</td>\n",
       "      <td>NaN</td>\n",
       "      <td>NaN</td>\n",
       "      <td>10.0</td>\n",
       "    </tr>\n",
       "    <tr>\n",
       "      <th>3</th>\n",
       "      <td>2021-09-13 10:41:41</td>\n",
       "      <td>PUSH 1</td>\n",
       "      <td>1h 12m</td>\n",
       "      <td>Bench Press (Barbell)</td>\n",
       "      <td>4</td>\n",
       "      <td>35.0</td>\n",
       "      <td>7</td>\n",
       "      <td>0</td>\n",
       "      <td>0</td>\n",
       "      <td>NaN</td>\n",
       "      <td>NaN</td>\n",
       "      <td>10.0</td>\n",
       "    </tr>\n",
       "    <tr>\n",
       "      <th>4</th>\n",
       "      <td>2021-09-13 10:41:41</td>\n",
       "      <td>PUSH 1</td>\n",
       "      <td>1h 12m</td>\n",
       "      <td>Incline Cable Chest Fly</td>\n",
       "      <td>1</td>\n",
       "      <td>12.5</td>\n",
       "      <td>12</td>\n",
       "      <td>0</td>\n",
       "      <td>0</td>\n",
       "      <td>NaN</td>\n",
       "      <td>NaN</td>\n",
       "      <td>9.5</td>\n",
       "    </tr>\n",
       "  </tbody>\n",
       "</table>\n",
       "</div>"
      ],
      "text/plain": [
       "                  Date Workout Name Duration            Exercise Name  \\\n",
       "0  2021-09-13 10:41:41       PUSH 1   1h 12m    Bench Press (Barbell)   \n",
       "1  2021-09-13 10:41:41       PUSH 1   1h 12m    Bench Press (Barbell)   \n",
       "2  2021-09-13 10:41:41       PUSH 1   1h 12m    Bench Press (Barbell)   \n",
       "3  2021-09-13 10:41:41       PUSH 1   1h 12m    Bench Press (Barbell)   \n",
       "4  2021-09-13 10:41:41       PUSH 1   1h 12m  Incline Cable Chest Fly   \n",
       "\n",
       "   Set Order  Weight  Reps  Distance  Seconds Notes  \\\n",
       "0          1    35.0    10         0        0   NaN   \n",
       "1          2    35.0     9         0        0   NaN   \n",
       "2          3    35.0     8         0        0   NaN   \n",
       "3          4    35.0     7         0        0   NaN   \n",
       "4          1    12.5    12         0        0   NaN   \n",
       "\n",
       "                              Workout Notes   RPE  \n",
       "0  Focusing on CHEST, SHOULDERS and TRICEPS   9.0  \n",
       "1                                       NaN  10.0  \n",
       "2                                       NaN  10.0  \n",
       "3                                       NaN  10.0  \n",
       "4                                       NaN   9.5  "
      ]
     },
     "execution_count": 2,
     "metadata": {},
     "output_type": "execute_result"
    }
   ],
   "source": [
    "df = pd.read_csv('strong.csv')\n",
    "df.head()"
   ]
  },
  {
   "cell_type": "code",
   "execution_count": 3,
   "id": "ec503f62",
   "metadata": {},
   "outputs": [
    {
     "name": "stdout",
     "output_type": "stream",
     "text": [
      "(3989, 12)\n"
     ]
    }
   ],
   "source": [
    "print(df.shape)"
   ]
  },
  {
   "cell_type": "code",
   "execution_count": 4,
   "id": "2b44e164",
   "metadata": {},
   "outputs": [
    {
     "name": "stdout",
     "output_type": "stream",
     "text": [
      "<class 'pandas.core.frame.DataFrame'>\n",
      "RangeIndex: 3989 entries, 0 to 3988\n",
      "Data columns (total 12 columns):\n",
      " #   Column         Non-Null Count  Dtype  \n",
      "---  ------         --------------  -----  \n",
      " 0   Date           3989 non-null   object \n",
      " 1   Workout Name   3989 non-null   object \n",
      " 2   Duration       3989 non-null   object \n",
      " 3   Exercise Name  3989 non-null   object \n",
      " 4   Set Order      3989 non-null   int64  \n",
      " 5   Weight         3989 non-null   float64\n",
      " 6   Reps           3989 non-null   int64  \n",
      " 7   Distance       3989 non-null   int64  \n",
      " 8   Seconds        3989 non-null   int64  \n",
      " 9   Notes          35 non-null     object \n",
      " 10  Workout Notes  218 non-null    object \n",
      " 11  RPE            3767 non-null   float64\n",
      "dtypes: float64(2), int64(4), object(6)\n",
      "memory usage: 374.1+ KB\n"
     ]
    }
   ],
   "source": [
    "df.info()"
   ]
  },
  {
   "cell_type": "code",
   "execution_count": 5,
   "id": "1222ca5b",
   "metadata": {},
   "outputs": [
    {
     "data": {
      "text/html": [
       "<div>\n",
       "<style scoped>\n",
       "    .dataframe tbody tr th:only-of-type {\n",
       "        vertical-align: middle;\n",
       "    }\n",
       "\n",
       "    .dataframe tbody tr th {\n",
       "        vertical-align: top;\n",
       "    }\n",
       "\n",
       "    .dataframe thead th {\n",
       "        text-align: right;\n",
       "    }\n",
       "</style>\n",
       "<table border=\"1\" class=\"dataframe\">\n",
       "  <thead>\n",
       "    <tr style=\"text-align: right;\">\n",
       "      <th></th>\n",
       "      <th>Date</th>\n",
       "      <th>Workout Name</th>\n",
       "      <th>Exercise Name</th>\n",
       "      <th>Set Order</th>\n",
       "      <th>Weight</th>\n",
       "      <th>Reps</th>\n",
       "      <th>RPE</th>\n",
       "    </tr>\n",
       "  </thead>\n",
       "  <tbody>\n",
       "    <tr>\n",
       "      <th>0</th>\n",
       "      <td>2021-09-13 10:41:41</td>\n",
       "      <td>PUSH 1</td>\n",
       "      <td>Bench Press (Barbell)</td>\n",
       "      <td>1</td>\n",
       "      <td>35.0</td>\n",
       "      <td>10</td>\n",
       "      <td>9.0</td>\n",
       "    </tr>\n",
       "    <tr>\n",
       "      <th>1</th>\n",
       "      <td>2021-09-13 10:41:41</td>\n",
       "      <td>PUSH 1</td>\n",
       "      <td>Bench Press (Barbell)</td>\n",
       "      <td>2</td>\n",
       "      <td>35.0</td>\n",
       "      <td>9</td>\n",
       "      <td>10.0</td>\n",
       "    </tr>\n",
       "    <tr>\n",
       "      <th>2</th>\n",
       "      <td>2021-09-13 10:41:41</td>\n",
       "      <td>PUSH 1</td>\n",
       "      <td>Bench Press (Barbell)</td>\n",
       "      <td>3</td>\n",
       "      <td>35.0</td>\n",
       "      <td>8</td>\n",
       "      <td>10.0</td>\n",
       "    </tr>\n",
       "    <tr>\n",
       "      <th>3</th>\n",
       "      <td>2021-09-13 10:41:41</td>\n",
       "      <td>PUSH 1</td>\n",
       "      <td>Bench Press (Barbell)</td>\n",
       "      <td>4</td>\n",
       "      <td>35.0</td>\n",
       "      <td>7</td>\n",
       "      <td>10.0</td>\n",
       "    </tr>\n",
       "    <tr>\n",
       "      <th>4</th>\n",
       "      <td>2021-09-13 10:41:41</td>\n",
       "      <td>PUSH 1</td>\n",
       "      <td>Incline Cable Chest Fly</td>\n",
       "      <td>1</td>\n",
       "      <td>12.5</td>\n",
       "      <td>12</td>\n",
       "      <td>9.5</td>\n",
       "    </tr>\n",
       "  </tbody>\n",
       "</table>\n",
       "</div>"
      ],
      "text/plain": [
       "                  Date Workout Name            Exercise Name  Set Order  \\\n",
       "0  2021-09-13 10:41:41       PUSH 1    Bench Press (Barbell)          1   \n",
       "1  2021-09-13 10:41:41       PUSH 1    Bench Press (Barbell)          2   \n",
       "2  2021-09-13 10:41:41       PUSH 1    Bench Press (Barbell)          3   \n",
       "3  2021-09-13 10:41:41       PUSH 1    Bench Press (Barbell)          4   \n",
       "4  2021-09-13 10:41:41       PUSH 1  Incline Cable Chest Fly          1   \n",
       "\n",
       "   Weight  Reps   RPE  \n",
       "0    35.0    10   9.0  \n",
       "1    35.0     9  10.0  \n",
       "2    35.0     8  10.0  \n",
       "3    35.0     7  10.0  \n",
       "4    12.5    12   9.5  "
      ]
     },
     "execution_count": 5,
     "metadata": {},
     "output_type": "execute_result"
    }
   ],
   "source": [
    "# Elimino columnas que en principio no interesan\n",
    "df = df.drop(['Duration', 'Distance', 'Seconds', 'Notes', 'Workout Notes'], axis=1)\n",
    "df.head()"
   ]
  },
  {
   "cell_type": "code",
   "execution_count": 6,
   "id": "0a63142e",
   "metadata": {},
   "outputs": [
    {
     "name": "stdout",
     "output_type": "stream",
     "text": [
      "count                    3989\n",
      "unique                    249\n",
      "top       2023-12-19 12:43:00\n",
      "freq                       48\n",
      "Name: Date, dtype: object\n"
     ]
    }
   ],
   "source": [
    "print(df['Date'].describe())"
   ]
  },
  {
   "cell_type": "code",
   "execution_count": 7,
   "id": "1f815e05",
   "metadata": {},
   "outputs": [
    {
     "name": "stdout",
     "output_type": "stream",
     "text": [
      "count        3989\n",
      "unique         11\n",
      "top       PULL 2 \n",
      "freq         1044\n",
      "Name: Workout Name, dtype: object\n"
     ]
    }
   ],
   "source": [
    "print(df['Workout Name'].describe())"
   ]
  },
  {
   "cell_type": "code",
   "execution_count": 8,
   "id": "f0603a48",
   "metadata": {},
   "outputs": [
    {
     "name": "stdout",
     "output_type": "stream",
     "text": [
      "count                     3989\n",
      "unique                      46\n",
      "top       Lat Pulldown (Cable)\n",
      "freq                       402\n",
      "Name: Exercise Name, dtype: object\n"
     ]
    }
   ],
   "source": [
    "print(df['Exercise Name'].describe())"
   ]
  },
  {
   "cell_type": "code",
   "execution_count": 9,
   "id": "0f6625dd",
   "metadata": {},
   "outputs": [
    {
     "name": "stdout",
     "output_type": "stream",
     "text": [
      "count    3989.000000\n",
      "mean        2.170970\n",
      "std         1.042406\n",
      "min         1.000000\n",
      "25%         1.000000\n",
      "50%         2.000000\n",
      "75%         3.000000\n",
      "max         6.000000\n",
      "Name: Set Order, dtype: float64\n"
     ]
    }
   ],
   "source": [
    "print(df['Set Order'].describe())"
   ]
  },
  {
   "cell_type": "code",
   "execution_count": 10,
   "id": "df99172a",
   "metadata": {},
   "outputs": [
    {
     "name": "stdout",
     "output_type": "stream",
     "text": [
      "count    3989.000000\n",
      "mean       34.300890\n",
      "std        17.712179\n",
      "min         0.000000\n",
      "25%        25.000000\n",
      "50%        30.000000\n",
      "75%        45.000000\n",
      "max       195.000000\n",
      "Name: Weight, dtype: float64\n"
     ]
    }
   ],
   "source": [
    "print(df['Weight'].describe())"
   ]
  },
  {
   "cell_type": "code",
   "execution_count": 11,
   "id": "062ae2cb",
   "metadata": {},
   "outputs": [
    {
     "name": "stdout",
     "output_type": "stream",
     "text": [
      "count    3989.000000\n",
      "mean        9.534219\n",
      "std         3.627689\n",
      "min         0.000000\n",
      "25%         7.000000\n",
      "50%         9.000000\n",
      "75%        12.000000\n",
      "max        30.000000\n",
      "Name: Reps, dtype: float64\n"
     ]
    }
   ],
   "source": [
    "print(df['Reps'].describe())"
   ]
  },
  {
   "cell_type": "code",
   "execution_count": 12,
   "id": "b65a8c95",
   "metadata": {},
   "outputs": [
    {
     "name": "stdout",
     "output_type": "stream",
     "text": [
      "count    3767.000000\n",
      "mean        9.563048\n",
      "std         0.684452\n",
      "min         6.000000\n",
      "25%         9.000000\n",
      "50%        10.000000\n",
      "75%        10.000000\n",
      "max        10.000000\n",
      "Name: RPE, dtype: float64\n"
     ]
    }
   ],
   "source": [
    "print(df['RPE'].describe())"
   ]
  },
  {
   "cell_type": "code",
   "execution_count": 13,
   "id": "055506d5",
   "metadata": {},
   "outputs": [
    {
     "name": "stdout",
     "output_type": "stream",
     "text": [
      "<class 'pandas.core.frame.DataFrame'>\n",
      "RangeIndex: 3989 entries, 0 to 3988\n",
      "Data columns (total 7 columns):\n",
      " #   Column         Non-Null Count  Dtype  \n",
      "---  ------         --------------  -----  \n",
      " 0   Date           3989 non-null   object \n",
      " 1   Workout Name   3989 non-null   object \n",
      " 2   Exercise Name  3989 non-null   object \n",
      " 3   Set Order      3989 non-null   int64  \n",
      " 4   Weight         3989 non-null   float64\n",
      " 5   Reps           3989 non-null   int64  \n",
      " 6   RPE            3767 non-null   float64\n",
      "dtypes: float64(2), int64(2), object(3)\n",
      "memory usage: 218.3+ KB\n"
     ]
    }
   ],
   "source": [
    "df.info()"
   ]
  },
  {
   "cell_type": "code",
   "execution_count": 14,
   "id": "8cd8ccdd",
   "metadata": {},
   "outputs": [
    {
     "data": {
      "text/plain": [
       "array(['PUSH 1', 'PULL 1', 'PUSH 2', 'PULL 2 ', 'LEGS 1', 'PULL 3',\n",
       "       'PUSH 3', 'Full Body', 'Upper', 'Upper Body', 'Full Body 2'],\n",
       "      dtype=object)"
      ]
     },
     "execution_count": 14,
     "metadata": {},
     "output_type": "execute_result"
    }
   ],
   "source": [
    "df['Workout Name'].unique()"
   ]
  },
  {
   "cell_type": "code",
   "execution_count": 15,
   "id": "f56e3b1e",
   "metadata": {},
   "outputs": [
    {
     "data": {
      "text/html": [
       "<div>\n",
       "<style scoped>\n",
       "    .dataframe tbody tr th:only-of-type {\n",
       "        vertical-align: middle;\n",
       "    }\n",
       "\n",
       "    .dataframe tbody tr th {\n",
       "        vertical-align: top;\n",
       "    }\n",
       "\n",
       "    .dataframe thead th {\n",
       "        text-align: right;\n",
       "    }\n",
       "</style>\n",
       "<table border=\"1\" class=\"dataframe\">\n",
       "  <thead>\n",
       "    <tr style=\"text-align: right;\">\n",
       "      <th></th>\n",
       "      <th>Date</th>\n",
       "      <th>Exercise Name</th>\n",
       "      <th>Set Order</th>\n",
       "      <th>Weight</th>\n",
       "      <th>Reps</th>\n",
       "      <th>RPE</th>\n",
       "    </tr>\n",
       "  </thead>\n",
       "  <tbody>\n",
       "    <tr>\n",
       "      <th>0</th>\n",
       "      <td>2021-09-13 10:41:41</td>\n",
       "      <td>Bench Press (Barbell)</td>\n",
       "      <td>1</td>\n",
       "      <td>35.0</td>\n",
       "      <td>10</td>\n",
       "      <td>9.0</td>\n",
       "    </tr>\n",
       "    <tr>\n",
       "      <th>1</th>\n",
       "      <td>2021-09-13 10:41:41</td>\n",
       "      <td>Bench Press (Barbell)</td>\n",
       "      <td>2</td>\n",
       "      <td>35.0</td>\n",
       "      <td>9</td>\n",
       "      <td>10.0</td>\n",
       "    </tr>\n",
       "    <tr>\n",
       "      <th>2</th>\n",
       "      <td>2021-09-13 10:41:41</td>\n",
       "      <td>Bench Press (Barbell)</td>\n",
       "      <td>3</td>\n",
       "      <td>35.0</td>\n",
       "      <td>8</td>\n",
       "      <td>10.0</td>\n",
       "    </tr>\n",
       "    <tr>\n",
       "      <th>3</th>\n",
       "      <td>2021-09-13 10:41:41</td>\n",
       "      <td>Bench Press (Barbell)</td>\n",
       "      <td>4</td>\n",
       "      <td>35.0</td>\n",
       "      <td>7</td>\n",
       "      <td>10.0</td>\n",
       "    </tr>\n",
       "    <tr>\n",
       "      <th>4</th>\n",
       "      <td>2021-09-13 10:41:41</td>\n",
       "      <td>Incline Cable Chest Fly</td>\n",
       "      <td>1</td>\n",
       "      <td>12.5</td>\n",
       "      <td>12</td>\n",
       "      <td>9.5</td>\n",
       "    </tr>\n",
       "  </tbody>\n",
       "</table>\n",
       "</div>"
      ],
      "text/plain": [
       "                  Date            Exercise Name  Set Order  Weight  Reps   RPE\n",
       "0  2021-09-13 10:41:41    Bench Press (Barbell)          1    35.0    10   9.0\n",
       "1  2021-09-13 10:41:41    Bench Press (Barbell)          2    35.0     9  10.0\n",
       "2  2021-09-13 10:41:41    Bench Press (Barbell)          3    35.0     8  10.0\n",
       "3  2021-09-13 10:41:41    Bench Press (Barbell)          4    35.0     7  10.0\n",
       "4  2021-09-13 10:41:41  Incline Cable Chest Fly          1    12.5    12   9.5"
      ]
     },
     "execution_count": 15,
     "metadata": {},
     "output_type": "execute_result"
    }
   ],
   "source": [
    "df = df.drop(['Workout Name'], axis=1)\n",
    "df.head()"
   ]
  }
 ],
 "metadata": {
  "kernelspec": {
   "display_name": "Python 3",
   "language": "python",
   "name": "python3"
  },
  "language_info": {
   "codemirror_mode": {
    "name": "ipython",
    "version": 3
   },
   "file_extension": ".py",
   "mimetype": "text/x-python",
   "name": "python",
   "nbconvert_exporter": "python",
   "pygments_lexer": "ipython3",
   "version": "3.13.2"
  }
 },
 "nbformat": 4,
 "nbformat_minor": 5
}
