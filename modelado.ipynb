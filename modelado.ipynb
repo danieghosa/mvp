{
 "cells": [
  {
   "cell_type": "code",
   "execution_count": 2,
   "id": "e765e974",
   "metadata": {},
   "outputs": [
    {
     "name": "stdout",
     "output_type": "stream",
     "text": [
      "X_train.shape: (3689, 5)\n",
      "X_test.shape:  (0, 5)\n"
     ]
    }
   ],
   "source": [
    "print(\"X_train.shape:\", X_train.shape)\n",
    "print(\"X_test.shape: \", X_test.shape)\n"
   ]
  },
  {
   "cell_type": "code",
   "execution_count": 3,
   "id": "a6fa00ea",
   "metadata": {},
   "outputs": [
    {
     "name": "stdout",
     "output_type": "stream",
     "text": [
      "Mínima fecha: 2021-09-13 10:41:41\n",
      "Máxima fecha: 2024-02-02 17:37:32\n"
     ]
    }
   ],
   "source": [
    "print(\"Mínima fecha:\", df_model['fecha'].min())\n",
    "print(\"Máxima fecha:\", df_model['fecha'].max())"
   ]
  },
  {
   "cell_type": "code",
   "execution_count": 9,
   "id": "ac77e77e",
   "metadata": {},
   "outputs": [
    {
     "name": "stdout",
     "output_type": "stream",
     "text": [
      "Train shape: (3503, 5)  Test shape: (186, 5)\n",
      "MAE (solo datos reales): 1.45 kg\n",
      "             usuario              ejercicio               fecha  peso (kg)  \\\n",
      "3821  usuario_strong  Bicep Curl (Dumbbell) 2024-01-04 11:45:06       30.0   \n",
      "3822  usuario_strong  Bicep Curl (Dumbbell) 2024-01-04 11:45:06       30.0   \n",
      "3823  usuario_strong  Bicep Curl (Dumbbell) 2024-01-04 11:45:06       30.0   \n",
      "3824  usuario_strong  Bicep Curl (Dumbbell) 2024-01-04 11:45:06       25.0   \n",
      "3837  usuario_strong  Bicep Curl (Dumbbell) 2024-01-04 11:45:06       30.0   \n",
      "\n",
      "      peso_next  predicción  \n",
      "3821       30.0   29.907807  \n",
      "3822       30.0   29.907807  \n",
      "3823       25.0   29.907807  \n",
      "3824       30.0   29.907807  \n",
      "3837       30.0   29.330357  \n"
     ]
    }
   ],
   "source": [
    "import pandas as pd\n",
    "from sklearn.tree import DecisionTreeRegressor\n",
    "from sklearn.metrics import mean_absolute_error\n",
    "\n",
    "# 0) Carga de datos\n",
    "df = pd.read_csv(\"dataset_combinado.csv\", parse_dates=['fecha'])\n",
    "\n",
    "# 1) Filtrar sólo datos reales\n",
    "df_real = df[df['usuario'].isin(['usuario_strong', 'usuario_weightlifting'])].copy()\n",
    "\n",
    "# 2) Ordenar y crear la variable objetivo: próxima carga\n",
    "df_real = df_real.sort_values(['usuario', 'ejercicio', 'fecha'])\n",
    "df_real['peso_next'] = df_real.groupby(['usuario','ejercicio'])['peso (kg)'].shift(-1)\n",
    "\n",
    "# 3) Crear features de lag y time-deltas\n",
    "df_real['peso_prev'] = df_real.groupby(['usuario','ejercicio'])['peso (kg)'].shift(1)\n",
    "df_real['reps_prev'] = df_real.groupby(['usuario','ejercicio'])['reps'].shift(1)\n",
    "df_real['rir_prev']  = df_real.groupby(['usuario','ejercicio'])['rir'].shift(1)\n",
    "df_real['delta_peso'] = df_real['peso (kg)'] - df_real['peso_prev']\n",
    "df_real['dias_entre_sesiones'] = df_real.groupby(['usuario','ejercicio'])['fecha'].diff().dt.days\n",
    "\n",
    "# 4) Eliminar filas con NaN en features u objetivo\n",
    "features = ['peso_prev','reps_prev','rir_prev','delta_peso','dias_entre_sesiones']\n",
    "df_model = df_real.dropna(subset=features + ['peso_next']).copy()\n",
    "\n",
    "# 5) Split temporal: antes de 2024-01-01 → train; desde 2024-01-01 → test\n",
    "split_date = '2024-01-03'\n",
    "train = df_model[df_model['fecha'] < split_date]\n",
    "test  = df_model[df_model['fecha'] >= split_date]\n",
    "\n",
    "X_train, y_train = train[features], train['peso_next']\n",
    "X_test,  y_test  = test[features],  test['peso_next']\n",
    "\n",
    "print(f\"Train shape: {X_train.shape}  Test shape: {X_test.shape}\")\n",
    "\n",
    "# 6) Entrenar modelo baseline\n",
    "model = DecisionTreeRegressor(max_depth=5, random_state=42)\n",
    "model.fit(X_train, y_train)\n",
    "\n",
    "# 7) Predecir y evaluar\n",
    "preds = model.predict(X_test)\n",
    "mae = mean_absolute_error(y_test, preds)\n",
    "print(f\"MAE (solo datos reales): {mae:.2f} kg\")\n",
    "\n",
    "# 8) Ver primeras predicciones vs realidad\n",
    "comparison = test[['usuario','ejercicio','fecha','peso (kg)','peso_next']].copy()\n",
    "comparison['predicción'] = preds\n",
    "print(comparison.head(5))\n"
   ]
  },
  {
   "cell_type": "code",
   "execution_count": 10,
   "id": "2710a88b",
   "metadata": {},
   "outputs": [
    {
     "name": "stdout",
     "output_type": "stream",
     "text": [
      "MAE regla +2 %: 1.44 kg\n"
     ]
    }
   ],
   "source": [
    "# Regla +2 % comparación\n",
    "preds_rule = test['peso (kg)'] * 1.02\n",
    "mae_rule = mean_absolute_error(y_test, preds_rule)\n",
    "print(f\"MAE regla +2 %: {mae_rule:.2f} kg\")\n"
   ]
  },
  {
   "cell_type": "code",
   "execution_count": 1,
   "id": "28a68a25",
   "metadata": {},
   "outputs": [
    {
     "name": "stdout",
     "output_type": "stream",
     "text": [
      "<class 'pandas.core.frame.DataFrame'>\n",
      "Index: 13921 entries, 0 to 13920\n",
      "Data columns (total 9 columns):\n",
      " #   Column            Non-Null Count  Dtype         \n",
      "---  ------            --------------  -----         \n",
      " 0   usuario           13921 non-null  object        \n",
      " 1   fecha             13921 non-null  datetime64[ns]\n",
      " 2   ejercicio         13921 non-null  object        \n",
      " 3   set               13921 non-null  int64         \n",
      " 4   peso (kg)         13921 non-null  float64       \n",
      " 5   reps              13921 non-null  int64         \n",
      " 6   rpe               3767 non-null   float64       \n",
      " 7   rir               3767 non-null   float64       \n",
      " 8   cumplió_objetivo  13921 non-null  bool          \n",
      "dtypes: bool(1), datetime64[ns](1), float64(3), int64(2), object(2)\n",
      "memory usage: 992.4+ KB\n",
      "None\n",
      "          usuario               fecha                ejercicio  set  \\\n",
      "0  usuario_strong 2021-09-13 10:41:41    Bench Press (Barbell)    1   \n",
      "1  usuario_strong 2021-09-13 10:41:41    Bench Press (Barbell)    2   \n",
      "2  usuario_strong 2021-09-13 10:41:41    Bench Press (Barbell)    3   \n",
      "3  usuario_strong 2021-09-13 10:41:41    Bench Press (Barbell)    4   \n",
      "4  usuario_strong 2021-09-13 10:41:41  Incline Cable Chest Fly    1   \n",
      "\n",
      "   peso (kg)  reps   rpe  rir  cumplió_objetivo  \n",
      "0       35.0    10   9.0  1.0              True  \n",
      "1       35.0     9  10.0  0.0              True  \n",
      "2       35.0     8  10.0  0.0              True  \n",
      "3       35.0     7  10.0  0.0              True  \n",
      "4       12.5    12   9.5  0.5              True  \n"
     ]
    }
   ],
   "source": [
    "import pandas as pd\n",
    "\n",
    "# 1) Carga el dataset combinado\n",
    "df = pd.read_csv(\"dataset_combinado.csv\", parse_dates=['fecha'])\n",
    "\n",
    "# 2) (Opcional) Filtrar sólo usuarios reales si quieres\n",
    "usuarios_reales = ['usuario_strong', 'usuario_weightlifting']\n",
    "df = df[df[\"usuario\"].isin(usuarios_reales)].copy()\n",
    "\n",
    "# 3) Asegúrate de que las columnas de fecha son datetime\n",
    "df['fecha'] = pd.to_datetime(df['fecha'], errors='coerce')\n",
    "\n",
    "# 4) Revisa rápidamente la estructura\n",
    "print(df.info())\n",
    "print(df.head())\n"
   ]
  },
  {
   "cell_type": "code",
   "execution_count": 3,
   "id": "3da382f8",
   "metadata": {},
   "outputs": [
    {
     "name": "stdout",
     "output_type": "stream",
     "text": [
      "Train shape: (5986, 6); Test shape: (1497, 6)\n",
      "MAE Decision Tree: 2.23 kg\n",
      "Mejores parámetros DT: {'max_depth': 9, 'min_samples_leaf': 1}\n",
      "MAE DT ajustado: 0.97 kg\n",
      "MAE RandomForest: 1.09 kg\n",
      "MAE XGBoost: 1.00 kg\n",
      "Modelo final guardado como nextlift_model.pkl\n"
     ]
    }
   ],
   "source": [
    "# modelado_completo.py\n",
    "\n",
    "import pandas as pd\n",
    "import numpy as np\n",
    "from datetime import datetime\n",
    "from sklearn.tree import DecisionTreeRegressor\n",
    "from sklearn.ensemble import RandomForestRegressor\n",
    "from sklearn.metrics import mean_absolute_error\n",
    "from sklearn.model_selection import train_test_split, GridSearchCV\n",
    "import joblib\n",
    "\n",
    "# 1) Carga y limpieza de datos\n",
    "df = pd.read_csv(\"dataset_combinado.csv\", parse_dates=['fecha'])\n",
    "df = df.sort_values(['usuario', 'ejercicio', 'fecha', 'set'])\n",
    "\n",
    "# 2) Crear variable objetivo: siguiente carga\n",
    "df['peso_next'] = df.groupby(['usuario','ejercicio'])['peso (kg)'].shift(-1)\n",
    "\n",
    "# 3) Ingeniería de features\n",
    "df['peso_prev']  = df.groupby(['usuario','ejercicio'])['peso (kg)'].shift(1)\n",
    "df['reps_prev']  = df.groupby(['usuario','ejercicio'])['reps'].shift(1)\n",
    "df['rpe_prev']   = df.groupby(['usuario','ejercicio'])['rpe'].shift(1)\n",
    "df['rir_prev']   = df.groupby(['usuario','ejercicio'])['rir'].shift(1)\n",
    "df['delta_peso'] = df['peso (kg)'] - df['peso_prev']\n",
    "df['dias_entre'] = df.groupby(['usuario','ejercicio'])['fecha'].diff().dt.days\n",
    "\n",
    "# 4) Eliminar filas con valores nulos en features u objetivo\n",
    "features = ['peso_prev','reps_prev','rpe_prev','rir_prev','delta_peso','dias_entre']\n",
    "df_model = df.dropna(subset=features + ['peso_next']).copy()\n",
    "\n",
    "# 5) División train/test (aleatorio 80/20)\n",
    "X = df_model[features]\n",
    "y = df_model['peso_next']\n",
    "X_train, X_test, y_train, y_test = train_test_split(\n",
    "    X, y, test_size=0.2, random_state=42\n",
    ")\n",
    "\n",
    "print(f\"Train shape: {X_train.shape}; Test shape: {X_test.shape}\")\n",
    "\n",
    "# 6) Entrenar modelo base (Decision Tree)\n",
    "dt = DecisionTreeRegressor(max_depth=5, random_state=42)\n",
    "dt.fit(X_train, y_train)\n",
    "preds_dt = dt.predict(X_test)\n",
    "mae_dt = mean_absolute_error(y_test, preds_dt)\n",
    "print(f\"MAE Decision Tree: {mae_dt:.2f} kg\")\n",
    "\n",
    "# 7) Ajuste de hiperparámetros con GridSearchCV\n",
    "param_grid = {\n",
    "    'max_depth': [3,5,7,9],\n",
    "    'min_samples_leaf': [1,5,10,20]\n",
    "}\n",
    "grid = GridSearchCV(\n",
    "    DecisionTreeRegressor(random_state=42),\n",
    "    param_grid, cv=5,\n",
    "    scoring='neg_mean_absolute_error',\n",
    "    n_jobs=-1\n",
    ")\n",
    "grid.fit(X_train, y_train)\n",
    "best_dt = grid.best_estimator_\n",
    "preds_gs = best_dt.predict(X_test)\n",
    "mae_gs = mean_absolute_error(y_test, preds_gs)\n",
    "print(f\"Mejores parámetros DT: {grid.best_params_}\")\n",
    "print(f\"MAE DT ajustado: {mae_gs:.2f} kg\")\n",
    "\n",
    "# 8) Probar RandomForest\n",
    "rf = RandomForestRegressor(n_estimators=100, max_depth=7, random_state=42, n_jobs=-1)\n",
    "rf.fit(X_train, y_train)\n",
    "preds_rf = rf.predict(X_test)\n",
    "mae_rf = mean_absolute_error(y_test, preds_rf)\n",
    "print(f\"MAE RandomForest: {mae_rf:.2f} kg\")\n",
    "\n",
    "# 9) (Opcional) Probar XGBoost si está instalado\n",
    "try:\n",
    "    import xgboost as xgb\n",
    "    xgb_reg = xgb.XGBRegressor(\n",
    "        n_estimators=100, max_depth=5,\n",
    "        learning_rate=0.1, random_state=42,\n",
    "        n_jobs=-1\n",
    "    )\n",
    "    xgb_reg.fit(X_train, y_train)\n",
    "    preds_xgb = xgb_reg.predict(X_test)\n",
    "    mae_xgb = mean_absolute_error(y_test, preds_xgb)\n",
    "    print(f\"MAE XGBoost: {mae_xgb:.2f} kg\")\n",
    "    final_model = xgb_reg if mae_xgb < min(mae_rf, mae_gs) else (rf if mae_rf < mae_gs else best_dt)\n",
    "except ImportError:\n",
    "    final_model = rf if mae_rf < mae_gs else best_dt\n",
    "\n",
    "# 10) Guardar el modelo final\n",
    "joblib.dump(final_model, \"nextlift_model.pkl\")\n",
    "print(\"Modelo final guardado como nextlift_model.pkl\")\n"
   ]
  }
 ],
 "metadata": {
  "kernelspec": {
   "display_name": "Python 3",
   "language": "python",
   "name": "python3"
  },
  "language_info": {
   "codemirror_mode": {
    "name": "ipython",
    "version": 3
   },
   "file_extension": ".py",
   "mimetype": "text/x-python",
   "name": "python",
   "nbconvert_exporter": "python",
   "pygments_lexer": "ipython3",
   "version": "3.13.2"
  }
 },
 "nbformat": 4,
 "nbformat_minor": 5
}
