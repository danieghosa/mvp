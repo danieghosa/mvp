{
 "cells": [
  {
   "cell_type": "code",
   "execution_count": 1,
   "id": "3bad280a",
   "metadata": {},
   "outputs": [],
   "source": [
    "# Importar librerías\n",
    "import pandas as pd\n",
    "import numpy as np\n",
    "import warnings\n",
    "import matplotlib.pyplot as plt\n",
    "import seaborn as sns\n",
    "from sklearn.preprocessing import StandardScaler, LabelEncoder"
   ]
  },
  {
   "cell_type": "code",
   "execution_count": 2,
   "id": "c221994a",
   "metadata": {},
   "outputs": [
    {
     "data": {
      "text/html": [
       "<div>\n",
       "<style scoped>\n",
       "    .dataframe tbody tr th:only-of-type {\n",
       "        vertical-align: middle;\n",
       "    }\n",
       "\n",
       "    .dataframe tbody tr th {\n",
       "        vertical-align: top;\n",
       "    }\n",
       "\n",
       "    .dataframe thead th {\n",
       "        text-align: right;\n",
       "    }\n",
       "</style>\n",
       "<table border=\"1\" class=\"dataframe\">\n",
       "  <thead>\n",
       "    <tr style=\"text-align: right;\">\n",
       "      <th></th>\n",
       "      <th>Date</th>\n",
       "      <th>Workout Name</th>\n",
       "      <th>Exercise Name</th>\n",
       "      <th>Set Order</th>\n",
       "      <th>Weight</th>\n",
       "      <th>Reps</th>\n",
       "      <th>Distance</th>\n",
       "      <th>Seconds</th>\n",
       "      <th>Notes</th>\n",
       "      <th>Workout Notes</th>\n",
       "    </tr>\n",
       "  </thead>\n",
       "  <tbody>\n",
       "    <tr>\n",
       "      <th>0</th>\n",
       "      <td>2015-10-23 17:06:37</td>\n",
       "      <td>Chest</td>\n",
       "      <td>Incline Bench Press (Barbell)</td>\n",
       "      <td>1</td>\n",
       "      <td>135.0</td>\n",
       "      <td>8</td>\n",
       "      <td>0.0</td>\n",
       "      <td>0</td>\n",
       "      <td>NaN</td>\n",
       "      <td>NaN</td>\n",
       "    </tr>\n",
       "    <tr>\n",
       "      <th>1</th>\n",
       "      <td>2015-10-23 17:06:37</td>\n",
       "      <td>Chest</td>\n",
       "      <td>Incline Bench Press (Barbell)</td>\n",
       "      <td>2</td>\n",
       "      <td>135.0</td>\n",
       "      <td>8</td>\n",
       "      <td>0.0</td>\n",
       "      <td>0</td>\n",
       "      <td>NaN</td>\n",
       "      <td>NaN</td>\n",
       "    </tr>\n",
       "    <tr>\n",
       "      <th>2</th>\n",
       "      <td>2015-10-23 17:06:37</td>\n",
       "      <td>Chest</td>\n",
       "      <td>Incline Bench Press (Barbell)</td>\n",
       "      <td>3</td>\n",
       "      <td>135.0</td>\n",
       "      <td>5</td>\n",
       "      <td>0.0</td>\n",
       "      <td>0</td>\n",
       "      <td>NaN</td>\n",
       "      <td>NaN</td>\n",
       "    </tr>\n",
       "    <tr>\n",
       "      <th>3</th>\n",
       "      <td>2015-10-23 17:06:37</td>\n",
       "      <td>Chest</td>\n",
       "      <td>Incline Bench Press (Barbell)</td>\n",
       "      <td>4</td>\n",
       "      <td>185.0</td>\n",
       "      <td>7</td>\n",
       "      <td>0.0</td>\n",
       "      <td>0</td>\n",
       "      <td>NaN</td>\n",
       "      <td>NaN</td>\n",
       "    </tr>\n",
       "    <tr>\n",
       "      <th>4</th>\n",
       "      <td>2015-10-23 17:06:37</td>\n",
       "      <td>Chest</td>\n",
       "      <td>Incline Bench Press (Barbell)</td>\n",
       "      <td>5</td>\n",
       "      <td>230.0</td>\n",
       "      <td>8</td>\n",
       "      <td>0.0</td>\n",
       "      <td>0</td>\n",
       "      <td>NaN</td>\n",
       "      <td>NaN</td>\n",
       "    </tr>\n",
       "  </tbody>\n",
       "</table>\n",
       "</div>"
      ],
      "text/plain": [
       "                  Date Workout Name                  Exercise Name  Set Order  \\\n",
       "0  2015-10-23 17:06:37        Chest  Incline Bench Press (Barbell)          1   \n",
       "1  2015-10-23 17:06:37        Chest  Incline Bench Press (Barbell)          2   \n",
       "2  2015-10-23 17:06:37        Chest  Incline Bench Press (Barbell)          3   \n",
       "3  2015-10-23 17:06:37        Chest  Incline Bench Press (Barbell)          4   \n",
       "4  2015-10-23 17:06:37        Chest  Incline Bench Press (Barbell)          5   \n",
       "\n",
       "   Weight  Reps  Distance  Seconds Notes Workout Notes  \n",
       "0   135.0     8       0.0        0   NaN           NaN  \n",
       "1   135.0     8       0.0        0   NaN           NaN  \n",
       "2   135.0     5       0.0        0   NaN           NaN  \n",
       "3   185.0     7       0.0        0   NaN           NaN  \n",
       "4   230.0     8       0.0        0   NaN           NaN  "
      ]
     },
     "execution_count": 2,
     "metadata": {},
     "output_type": "execute_result"
    }
   ],
   "source": [
    "df = pd.read_csv('weightlifting_721_workouts.csv')\n",
    "df.head()"
   ]
  },
  {
   "cell_type": "code",
   "execution_count": 3,
   "id": "35b1fef2",
   "metadata": {},
   "outputs": [
    {
     "data": {
      "text/html": [
       "<div>\n",
       "<style scoped>\n",
       "    .dataframe tbody tr th:only-of-type {\n",
       "        vertical-align: middle;\n",
       "    }\n",
       "\n",
       "    .dataframe tbody tr th {\n",
       "        vertical-align: top;\n",
       "    }\n",
       "\n",
       "    .dataframe thead th {\n",
       "        text-align: right;\n",
       "    }\n",
       "</style>\n",
       "<table border=\"1\" class=\"dataframe\">\n",
       "  <thead>\n",
       "    <tr style=\"text-align: right;\">\n",
       "      <th></th>\n",
       "      <th>Date</th>\n",
       "      <th>Exercise Name</th>\n",
       "      <th>Set Order</th>\n",
       "      <th>Weight</th>\n",
       "      <th>Reps</th>\n",
       "    </tr>\n",
       "  </thead>\n",
       "  <tbody>\n",
       "    <tr>\n",
       "      <th>0</th>\n",
       "      <td>2015-10-23 17:06:37</td>\n",
       "      <td>Incline Bench Press (Barbell)</td>\n",
       "      <td>1</td>\n",
       "      <td>135.0</td>\n",
       "      <td>8</td>\n",
       "    </tr>\n",
       "    <tr>\n",
       "      <th>1</th>\n",
       "      <td>2015-10-23 17:06:37</td>\n",
       "      <td>Incline Bench Press (Barbell)</td>\n",
       "      <td>2</td>\n",
       "      <td>135.0</td>\n",
       "      <td>8</td>\n",
       "    </tr>\n",
       "    <tr>\n",
       "      <th>2</th>\n",
       "      <td>2015-10-23 17:06:37</td>\n",
       "      <td>Incline Bench Press (Barbell)</td>\n",
       "      <td>3</td>\n",
       "      <td>135.0</td>\n",
       "      <td>5</td>\n",
       "    </tr>\n",
       "    <tr>\n",
       "      <th>3</th>\n",
       "      <td>2015-10-23 17:06:37</td>\n",
       "      <td>Incline Bench Press (Barbell)</td>\n",
       "      <td>4</td>\n",
       "      <td>185.0</td>\n",
       "      <td>7</td>\n",
       "    </tr>\n",
       "    <tr>\n",
       "      <th>4</th>\n",
       "      <td>2015-10-23 17:06:37</td>\n",
       "      <td>Incline Bench Press (Barbell)</td>\n",
       "      <td>5</td>\n",
       "      <td>230.0</td>\n",
       "      <td>8</td>\n",
       "    </tr>\n",
       "  </tbody>\n",
       "</table>\n",
       "</div>"
      ],
      "text/plain": [
       "                  Date                  Exercise Name  Set Order  Weight  Reps\n",
       "0  2015-10-23 17:06:37  Incline Bench Press (Barbell)          1   135.0     8\n",
       "1  2015-10-23 17:06:37  Incline Bench Press (Barbell)          2   135.0     8\n",
       "2  2015-10-23 17:06:37  Incline Bench Press (Barbell)          3   135.0     5\n",
       "3  2015-10-23 17:06:37  Incline Bench Press (Barbell)          4   185.0     7\n",
       "4  2015-10-23 17:06:37  Incline Bench Press (Barbell)          5   230.0     8"
      ]
     },
     "execution_count": 3,
     "metadata": {},
     "output_type": "execute_result"
    }
   ],
   "source": [
    "# Elimino columnas que en principio no interesan\n",
    "df = df.drop(['Workout Name', 'Distance', 'Seconds', 'Notes', 'Workout Notes'], axis=1)\n",
    "df.head()"
   ]
  },
  {
   "cell_type": "code",
   "execution_count": 4,
   "id": "a99d6796",
   "metadata": {},
   "outputs": [
    {
     "name": "stdout",
     "output_type": "stream",
     "text": [
      "count                    9932\n",
      "unique                    583\n",
      "top       2015-12-20 13:46:49\n",
      "freq                       44\n",
      "Name: Date, dtype: object\n"
     ]
    }
   ],
   "source": [
    "print(df['Date'].describe())"
   ]
  },
  {
   "cell_type": "code",
   "execution_count": 5,
   "id": "43e08789",
   "metadata": {},
   "outputs": [
    {
     "name": "stdout",
     "output_type": "stream",
     "text": [
      "count                9932\n",
      "unique                 83\n",
      "top       Squat (Barbell)\n",
      "freq                 1437\n",
      "Name: Exercise Name, dtype: object\n"
     ]
    }
   ],
   "source": [
    "print(df['Exercise Name'].describe())"
   ]
  },
  {
   "cell_type": "code",
   "execution_count": 6,
   "id": "cf98096a",
   "metadata": {},
   "outputs": [
    {
     "name": "stdout",
     "output_type": "stream",
     "text": [
      "count    9932.000000\n",
      "mean        3.109847\n",
      "std         1.986896\n",
      "min         1.000000\n",
      "25%         2.000000\n",
      "50%         3.000000\n",
      "75%         4.000000\n",
      "max        11.000000\n",
      "Name: Set Order, dtype: float64\n"
     ]
    }
   ],
   "source": [
    "print(df['Set Order'].describe())"
   ]
  },
  {
   "cell_type": "code",
   "execution_count": 7,
   "id": "5a8edb9b",
   "metadata": {},
   "outputs": [
    {
     "name": "stdout",
     "output_type": "stream",
     "text": [
      "count    9932.000000\n",
      "mean      171.967540\n",
      "std       117.993654\n",
      "min         0.000000\n",
      "25%        85.000000\n",
      "50%       165.000000\n",
      "75%       237.500000\n",
      "max      2956.000000\n",
      "Name: Weight, dtype: float64\n"
     ]
    }
   ],
   "source": [
    "print(df['Weight'].describe())"
   ]
  },
  {
   "cell_type": "code",
   "execution_count": 8,
   "id": "a044bce5",
   "metadata": {},
   "outputs": [
    {
     "name": "stdout",
     "output_type": "stream",
     "text": [
      "count    9932.000000\n",
      "mean        8.688884\n",
      "std         3.092516\n",
      "min         0.000000\n",
      "25%         6.000000\n",
      "50%         8.000000\n",
      "75%        10.000000\n",
      "max        60.000000\n",
      "Name: Reps, dtype: float64\n"
     ]
    }
   ],
   "source": [
    "print(df['Reps'].describe())"
   ]
  },
  {
   "cell_type": "code",
   "execution_count": 9,
   "id": "5ce4b0ff",
   "metadata": {},
   "outputs": [
    {
     "name": "stdout",
     "output_type": "stream",
     "text": [
      "<class 'pandas.core.frame.DataFrame'>\n",
      "RangeIndex: 9932 entries, 0 to 9931\n",
      "Data columns (total 5 columns):\n",
      " #   Column         Non-Null Count  Dtype  \n",
      "---  ------         --------------  -----  \n",
      " 0   Date           9932 non-null   object \n",
      " 1   Exercise Name  9932 non-null   object \n",
      " 2   Set Order      9932 non-null   int64  \n",
      " 3   Weight         9932 non-null   float64\n",
      " 4   Reps           9932 non-null   int64  \n",
      "dtypes: float64(1), int64(2), object(2)\n",
      "memory usage: 388.1+ KB\n"
     ]
    }
   ],
   "source": [
    "df.info()"
   ]
  },
  {
   "cell_type": "code",
   "execution_count": 10,
   "id": "50f62f53",
   "metadata": {},
   "outputs": [],
   "source": [
    "df['Weight'] = df['Weight'] * 0.453592"
   ]
  },
  {
   "cell_type": "code",
   "execution_count": 11,
   "id": "55af5290",
   "metadata": {},
   "outputs": [
    {
     "data": {
      "text/html": [
       "<div>\n",
       "<style scoped>\n",
       "    .dataframe tbody tr th:only-of-type {\n",
       "        vertical-align: middle;\n",
       "    }\n",
       "\n",
       "    .dataframe tbody tr th {\n",
       "        vertical-align: top;\n",
       "    }\n",
       "\n",
       "    .dataframe thead th {\n",
       "        text-align: right;\n",
       "    }\n",
       "</style>\n",
       "<table border=\"1\" class=\"dataframe\">\n",
       "  <thead>\n",
       "    <tr style=\"text-align: right;\">\n",
       "      <th></th>\n",
       "      <th>Date</th>\n",
       "      <th>Exercise Name</th>\n",
       "      <th>Set Order</th>\n",
       "      <th>Weight</th>\n",
       "      <th>Reps</th>\n",
       "    </tr>\n",
       "  </thead>\n",
       "  <tbody>\n",
       "    <tr>\n",
       "      <th>0</th>\n",
       "      <td>2015-10-23 17:06:37</td>\n",
       "      <td>Incline Bench Press (Barbell)</td>\n",
       "      <td>1</td>\n",
       "      <td>61.23492</td>\n",
       "      <td>8</td>\n",
       "    </tr>\n",
       "    <tr>\n",
       "      <th>1</th>\n",
       "      <td>2015-10-23 17:06:37</td>\n",
       "      <td>Incline Bench Press (Barbell)</td>\n",
       "      <td>2</td>\n",
       "      <td>61.23492</td>\n",
       "      <td>8</td>\n",
       "    </tr>\n",
       "    <tr>\n",
       "      <th>2</th>\n",
       "      <td>2015-10-23 17:06:37</td>\n",
       "      <td>Incline Bench Press (Barbell)</td>\n",
       "      <td>3</td>\n",
       "      <td>61.23492</td>\n",
       "      <td>5</td>\n",
       "    </tr>\n",
       "    <tr>\n",
       "      <th>3</th>\n",
       "      <td>2015-10-23 17:06:37</td>\n",
       "      <td>Incline Bench Press (Barbell)</td>\n",
       "      <td>4</td>\n",
       "      <td>83.91452</td>\n",
       "      <td>7</td>\n",
       "    </tr>\n",
       "    <tr>\n",
       "      <th>4</th>\n",
       "      <td>2015-10-23 17:06:37</td>\n",
       "      <td>Incline Bench Press (Barbell)</td>\n",
       "      <td>5</td>\n",
       "      <td>104.32616</td>\n",
       "      <td>8</td>\n",
       "    </tr>\n",
       "  </tbody>\n",
       "</table>\n",
       "</div>"
      ],
      "text/plain": [
       "                  Date                  Exercise Name  Set Order     Weight  \\\n",
       "0  2015-10-23 17:06:37  Incline Bench Press (Barbell)          1   61.23492   \n",
       "1  2015-10-23 17:06:37  Incline Bench Press (Barbell)          2   61.23492   \n",
       "2  2015-10-23 17:06:37  Incline Bench Press (Barbell)          3   61.23492   \n",
       "3  2015-10-23 17:06:37  Incline Bench Press (Barbell)          4   83.91452   \n",
       "4  2015-10-23 17:06:37  Incline Bench Press (Barbell)          5  104.32616   \n",
       "\n",
       "   Reps  \n",
       "0     8  \n",
       "1     8  \n",
       "2     5  \n",
       "3     7  \n",
       "4     8  "
      ]
     },
     "execution_count": 11,
     "metadata": {},
     "output_type": "execute_result"
    }
   ],
   "source": [
    "df.head()"
   ]
  },
  {
   "cell_type": "code",
   "execution_count": null,
   "id": "96e808d5",
   "metadata": {},
   "outputs": [],
   "source": []
  }
 ],
 "metadata": {
  "kernelspec": {
   "display_name": "Python 3",
   "language": "python",
   "name": "python3"
  },
  "language_info": {
   "codemirror_mode": {
    "name": "ipython",
    "version": 3
   },
   "file_extension": ".py",
   "mimetype": "text/x-python",
   "name": "python",
   "nbconvert_exporter": "python",
   "pygments_lexer": "ipython3",
   "version": "3.13.2"
  }
 },
 "nbformat": 4,
 "nbformat_minor": 5
}
